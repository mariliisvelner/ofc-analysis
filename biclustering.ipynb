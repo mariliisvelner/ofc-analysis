{
 "cells": [
  {
   "cell_type": "code",
   "execution_count": null,
   "metadata": {},
   "outputs": [],
   "source": [
    "from data_reader_writer import *\n",
    "from cluster import *\n",
    "\n",
    "import numpy as np\n",
    "from sklearn.cluster import SpectralBiclustering, SpectralCoclustering\n",
    "from scipy.stats import spearmanr\n",
    "\n",
    "from math import ceil\n",
    "import pickle"
   ]
  },
  {
   "cell_type": "code",
   "execution_count": null,
   "metadata": {},
   "outputs": [],
   "source": [
    "all_datasets =  pickle.load(open(\"all_datasets_1.p\", \"rb\")) # load_var(\"all_datasets_1\")"
   ]
  },
  {
   "cell_type": "code",
   "execution_count": null,
   "metadata": {},
   "outputs": [],
   "source": [
    "tw_per_els = [1, 2, 3]\n",
    "results_123={}\n",
    "\n",
    "for s in ['s1', 's2', 's3']: \n",
    "    print(s)\n",
    "    for tw_type in time_window_types:\n",
    "        print(tw_type)\n",
    "        for trial_type in trial_types:\n",
    "            print(trial_type)\n",
    "            for tw_per_el in tw_per_els:\n",
    "                print(tw_per_el)\n",
    "                for use_all_els in [True, False]:\n",
    "                    data = all_datasets[(s, tw_type, trial_type, tw_per_el, use_all_els)]\n",
    "                    \n",
    "                    max_clusters = None \n",
    "                    if min(data.shape) <= 10:\n",
    "                        max_clusters = ceil(min(data.shape) / 2) \n",
    "                    elif min(data.shape) <= 20:\n",
    "                        max_clusters = ceil(min(data.shape) / 3) \n",
    "                    else:\n",
    "                        max_clusters = 7\n",
    "                    \n",
    "                    for method in [\"log\", \"scale\", \"bistochastic\"]:\n",
    "                        print(method)\n",
    "                        for n_clusters in range(2, max_clusters + 1):\n",
    "                            for svd_method in [\"randomized\", \"arpack\"]:\n",
    "                                try:\n",
    "                                    row_labels, col_labels, rows, cols = spectral_bicluster(data, n_clusters=n_clusters, \n",
    "                                                                           svd_method=svd_method, method=method,\n",
    "                                                                           plot_results=False)\n",
    "\n",
    "                                    results_123[(s, tw_type, trial_type, tw_per_el, use_all_els, method, n_clusters, \n",
    "                                             svd_method)] = (ASR(data, row_labels, col_labels), row_labels, col_labels, \n",
    "                                                             rows, cols)\n",
    "                                except Exception as e:\n",
    "                                    print(\"Failed with params: \", s, tw_type, trial_type, tw_per_el, use_all_els, \n",
    "                                          n_clusters, svd_method)\n",
    "                                    print(\"Trace: \", str(e))\n"
   ]
  },
  {
   "cell_type": "code",
   "execution_count": null,
   "metadata": {},
   "outputs": [],
   "source": [
    "pickle.dump(results_123, open(\"bicluster_results_s123.p\", \"wb\"))"
   ]
  },
  {
   "cell_type": "code",
   "execution_count": null,
   "metadata": {},
   "outputs": [],
   "source": [
    "results_456={}\n",
    "\n",
    "for s in ['s4', 's5', 's6']: \n",
    "    print(s)\n",
    "    for tw_type in time_window_types:\n",
    "        print(tw_type)\n",
    "        for trial_type in trial_types:\n",
    "            print(trial_type)\n",
    "            for tw_per_el in tw_per_els:\n",
    "                print(tw_per_el)\n",
    "                for use_all_els in [True, False]:\n",
    "                    data = all_datasets[(s, tw_type, trial_type, tw_per_el, use_all_els)]\n",
    "                    \n",
    "                    max_clusters = None \n",
    "                    if min(data.shape) <= 10:\n",
    "                        max_clusters = ceil(min(data.shape) / 2) \n",
    "                    elif min(data.shape) <= 20:\n",
    "                        max_clusters = ceil(min(data.shape) / 3) \n",
    "                    else:\n",
    "                        max_clusters = 7\n",
    "                    \n",
    "                    for method in [\"log\", \"scale\", \"bistochastic\"]:\n",
    "                        print(method)\n",
    "                        for n_clusters in range(2, max_clusters + 1):\n",
    "                            for svd_method in [\"randomized\", \"arpack\"]:\n",
    "                                try:\n",
    "                                    row_labels, col_labels, rows, cols = spectral_bicluster(data, n_clusters=n_clusters, \n",
    "                                                                           svd_method=svd_method, method=method, \n",
    "                                                                           plot_results=False)\n",
    "\n",
    "                                    results_456[(s, tw_type, trial_type, tw_per_el, use_all_els, method, n_clusters, \n",
    "                                             svd_method)] = (ASR(data, row_labels, col_labels), row_labels, col_labels, \n",
    "                                                             rows, cols)\n",
    "                                except Exception as e:\n",
    "                                    print(\"Failed with params: \", s, tw_type, trial_type, tw_per_el, use_all_els, \n",
    "                                          n_clusters, svd_method)\n",
    "                                    print(\"Trace: \", str(e))\n"
   ]
  },
  {
   "cell_type": "code",
   "execution_count": null,
   "metadata": {},
   "outputs": [],
   "source": [
    "pickle.dump(results_456, open(\"bicluster_results_s456.p\", \"wb\"))"
   ]
  },
  {
   "cell_type": "code",
   "execution_count": null,
   "metadata": {},
   "outputs": [],
   "source": [
    "results_78910={}\n",
    "\n",
    "for s in ['s7', 's8', 's9', 's10']: \n",
    "    print(s)\n",
    "    for tw_type in time_window_types:\n",
    "        print(tw_type)\n",
    "        for trial_type in trial_types:\n",
    "            print(trial_type)\n",
    "            for tw_per_el in tw_per_els:\n",
    "                print(tw_per_el)\n",
    "                for use_all_els in [True, False]:\n",
    "                    data = all_datasets[(s, tw_type, trial_type, tw_per_el, use_all_els)]\n",
    "                    \n",
    "                    max_clusters = None \n",
    "                    if min(data.shape) <= 10:\n",
    "                        max_clusters = ceil(min(data.shape) / 2) \n",
    "                    elif min(data.shape) <= 20:\n",
    "                        max_clusters = ceil(min(data.shape) / 3) \n",
    "                    else:\n",
    "                        max_clusters = 7\n",
    "                    \n",
    "                    for method in [\"log\", \"scale\", \"bistochastic\"]:\n",
    "                        print(method)\n",
    "                        for n_clusters in range(2, max_clusters + 1):\n",
    "                            for svd_method in [\"randomized\", \"arpack\"]:\n",
    "                                try:\n",
    "                                    row_labels, col_labels, rows, cols = spectral_bicluster(data, n_clusters=n_clusters, \n",
    "                                                                           svd_method=svd_method, method=method, \n",
    "                                                                           plot_results=False)\n",
    "\n",
    "                                    results_78910[(s, tw_type, trial_type, tw_per_el, use_all_els, method, n_clusters, \n",
    "                                             svd_method)] = (ASR(data, row_labels, col_labels), row_labels, col_labels, \n",
    "                                                             rows, cols)\n",
    "                                except Exception as e:\n",
    "                                    print(\"Failed with params: \", s, tw_type, trial_type, tw_per_el, use_all_els, \n",
    "                                          n_clusters, svd_method)\n",
    "                                    print(\"Trace: \", str(e))\n"
   ]
  },
  {
   "cell_type": "code",
   "execution_count": null,
   "metadata": {},
   "outputs": [],
   "source": [
    "pickle.dump(results_78910, open(\"bicluster_results_s78910.p\", \"wb\"))"
   ]
  }
 ],
 "metadata": {
  "kernelspec": {
   "display_name": "Python 3",
   "language": "python",
   "name": "python3"
  },
  "language_info": {
   "codemirror_mode": {
    "name": "ipython",
    "version": 3
   },
   "file_extension": ".py",
   "mimetype": "text/x-python",
   "name": "python",
   "nbconvert_exporter": "python",
   "pygments_lexer": "ipython3",
   "version": "3.6.8"
  }
 },
 "nbformat": 4,
 "nbformat_minor": 2
}
