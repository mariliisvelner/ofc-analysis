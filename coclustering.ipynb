{
 "cells": [
  {
   "cell_type": "code",
   "execution_count": null,
   "metadata": {},
   "outputs": [],
   "source": [
    "from data_reader_writer import *\n",
    "from cluster import *\n",
    "\n",
    "import numpy as np\n",
    "from sklearn.cluster import SpectralBiclustering, SpectralCoclustering\n",
    "from scipy.stats import spearmanr\n",
    "\n",
    "from math import ceil\n",
    "import pickle"
   ]
  },
  {
   "cell_type": "code",
   "execution_count": null,
   "metadata": {},
   "outputs": [],
   "source": [
    "all_datasets =  pickle.load(open(\"all_datasets_2.p\", \"rb\")) "
   ]
  },
  {
   "cell_type": "code",
   "execution_count": null,
   "metadata": {},
   "outputs": [],
   "source": [
    "tw_per_els = [1, 2, 3]\n",
    "results = {}\n",
    "\n",
    "for s in SUBJECTS:\n",
    "    print(s)\n",
    "    for tw_type in time_window_types:\n",
    "        print(tw_type)\n",
    "        for trial_type in trial_types:\n",
    "            print(trial_type)\n",
    "            for tw_per_el in tw_per_els:\n",
    "                for use_all_els in [True, False]:\n",
    "                    data = all_datasets[(s, tw_type, trial_type, tw_per_el, use_all_els)]\n",
    "                    \n",
    "                    max_clusters = None \n",
    "                    if min(data.shape) <= 10:\n",
    "                        max_clusters = ceil(min(data.shape) / 2) \n",
    "                    elif min(data.shape) <= 20:\n",
    "                        max_clusters = ceil(min(data.shape) / 3) \n",
    "                    else:\n",
    "                        max_clusters = 8\n",
    "                    \n",
    "                    for n_clusters in range(2, max_clusters + 1):\n",
    "                        for svd_method in [\"randomized\", \"arpack\"]:\n",
    "                            try:\n",
    "                                row_labels, col_labels, rows, cols = bicocluster(data, n_clusters=n_clusters, svd_method=svd_method, \n",
    "                                                                         plot_results=False)\n",
    "                                \n",
    "                                results[(s, tw_type, trial_type, tw_per_el, use_all_els, n_clusters, \n",
    "                                         svd_method)] = (ASR(data, row_labels, col_labels), row_labels, col_labels, rows, cols)\n",
    "                            except Exception as e:\n",
    "                                print(\"Failed with params: \", s, tw_type, trial_type, tw_per_el, use_all_els, n_clusters, \n",
    "                                      svd_method)\n",
    "                                print(\"Trace: \", str(e))\n",
    "                                "
   ]
  },
  {
   "cell_type": "code",
   "execution_count": null,
   "metadata": {},
   "outputs": [],
   "source": [
    "pickle.dump(results, open(\"cocluster_results_3.p\", \"wb\"))"
   ]
  }
 ],
 "metadata": {
  "kernelspec": {
   "display_name": "Python 3",
   "language": "python",
   "name": "python3"
  },
  "language_info": {
   "codemirror_mode": {
    "name": "ipython",
    "version": 3
   },
   "file_extension": ".py",
   "mimetype": "text/x-python",
   "name": "python",
   "nbconvert_exporter": "python",
   "pygments_lexer": "ipython3",
   "version": "3.6.8"
  }
 },
 "nbformat": 4,
 "nbformat_minor": 2
}
