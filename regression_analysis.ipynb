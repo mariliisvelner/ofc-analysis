{
 "cells": [
  {
   "cell_type": "code",
   "execution_count": 1,
   "metadata": {},
   "outputs": [
    {
     "name": "stderr",
     "output_type": "stream",
     "text": [
      "C:\\Users\\MariLiis\\Anaconda3\\lib\\site-packages\\sklearn\\ensemble\\weight_boosting.py:29: DeprecationWarning: numpy.core.umath_tests is an internal NumPy module and should not be imported. It will be removed in a future NumPy release.\n",
      "  from numpy.core.umath_tests import inner1d\n"
     ]
    }
   ],
   "source": [
    "import file_reader as fr\n",
    "import itertools as it\n",
    "import pandas as pd\n",
    "from sklearn.linear_model import LogisticRegression, LassoCV, RidgeCV, ElasticNetCV, SGDClassifier\n",
    "from sklearn.model_selection import cross_val_score\n",
    "import numpy as np\n",
    "from sklearn.svm import LinearSVC, NuSVC, SVC\n",
    "from sklearn.tree import DecisionTreeClassifier, ExtraTreeClassifier\n",
    "from sklearn.ensemble import RandomForestClassifier\n",
    "\n",
    "from sklearn.model_selection import KFold\n",
    "import seaborn as sns\n",
    "import matplotlib.pyplot as plt\n",
    "from collections import defaultdict\n",
    "\n",
    "%matplotlib inline"
   ]
  },
  {
   "cell_type": "code",
   "execution_count": 2,
   "metadata": {},
   "outputs": [],
   "source": [
    "ephys_data = fr.get_ephys_data()"
   ]
  },
  {
   "cell_type": "code",
   "execution_count": 3,
   "metadata": {},
   "outputs": [],
   "source": [
    "gamble_choices = fr.get_gamble_choices_data()"
   ]
  },
  {
   "cell_type": "code",
   "execution_count": 4,
   "metadata": {},
   "outputs": [
    {
     "name": "stderr",
     "output_type": "stream",
     "text": [
      "C:\\Users\\MariLiis\\Anaconda3\\lib\\site-packages\\pandas\\core\\indexing.py:189: SettingWithCopyWarning: \n",
      "A value is trying to be set on a copy of a slice from a DataFrame\n",
      "\n",
      "See the caveats in the documentation: http://pandas.pydata.org/pandas-docs/stable/indexing.html#indexing-view-versus-copy\n",
      "  self._setitem_with_indexer(indexer, value)\n"
     ]
    }
   ],
   "source": [
    "behavior_data = fr.get_behavior_data()"
   ]
  },
  {
   "cell_type": "code",
   "execution_count": 5,
   "metadata": {},
   "outputs": [],
   "source": [
    "regressor_data = fr.get_regressor_data()"
   ]
  },
  {
   "cell_type": "code",
   "execution_count": 6,
   "metadata": {},
   "outputs": [],
   "source": [
    "SUBJECTS = [\"s1\", \"s2\", \"s3\", \"s4\", \"s5\", \"s6\", \"s7\", \"s8\", \"s9\", \"s10\"]"
   ]
  },
  {
   "cell_type": "code",
   "execution_count": 7,
   "metadata": {},
   "outputs": [
    {
     "data": {
      "text/html": [
       "<div>\n",
       "<style scoped>\n",
       "    .dataframe tbody tr th:only-of-type {\n",
       "        vertical-align: middle;\n",
       "    }\n",
       "\n",
       "    .dataframe tbody tr th {\n",
       "        vertical-align: top;\n",
       "    }\n",
       "\n",
       "    .dataframe thead th {\n",
       "        text-align: right;\n",
       "    }\n",
       "</style>\n",
       "<table border=\"1\" class=\"dataframe\">\n",
       "  <thead>\n",
       "    <tr style=\"text-align: right;\">\n",
       "      <th></th>\n",
       "      <th>Safe.Bet.Amount</th>\n",
       "      <th>Risky.Bet.Amount</th>\n",
       "      <th>Risky.bet.shown.number</th>\n",
       "      <th>Risky.bet.hidden.number</th>\n",
       "      <th>Risky.Side</th>\n",
       "    </tr>\n",
       "  </thead>\n",
       "  <tbody>\n",
       "    <tr>\n",
       "      <th>0</th>\n",
       "      <td>10</td>\n",
       "      <td>30</td>\n",
       "      <td>1</td>\n",
       "      <td>5</td>\n",
       "      <td>Left</td>\n",
       "    </tr>\n",
       "    <tr>\n",
       "      <th>1</th>\n",
       "      <td>10</td>\n",
       "      <td>20</td>\n",
       "      <td>4</td>\n",
       "      <td>5</td>\n",
       "      <td>Left</td>\n",
       "    </tr>\n",
       "    <tr>\n",
       "      <th>2</th>\n",
       "      <td>10</td>\n",
       "      <td>25</td>\n",
       "      <td>7</td>\n",
       "      <td>8</td>\n",
       "      <td>Right</td>\n",
       "    </tr>\n",
       "    <tr>\n",
       "      <th>3</th>\n",
       "      <td>10</td>\n",
       "      <td>30</td>\n",
       "      <td>1</td>\n",
       "      <td>4</td>\n",
       "      <td>Left</td>\n",
       "    </tr>\n",
       "    <tr>\n",
       "      <th>4</th>\n",
       "      <td>10</td>\n",
       "      <td>25</td>\n",
       "      <td>6</td>\n",
       "      <td>1</td>\n",
       "      <td>Left</td>\n",
       "    </tr>\n",
       "  </tbody>\n",
       "</table>\n",
       "</div>"
      ],
      "text/plain": [
       "   Safe.Bet.Amount  Risky.Bet.Amount  Risky.bet.shown.number  \\\n",
       "0               10                30                       1   \n",
       "1               10                20                       4   \n",
       "2               10                25                       7   \n",
       "3               10                30                       1   \n",
       "4               10                25                       6   \n",
       "\n",
       "   Risky.bet.hidden.number Risky.Side  \n",
       "0                        5       Left  \n",
       "1                        5       Left  \n",
       "2                        8      Right  \n",
       "3                        4       Left  \n",
       "4                        1       Left  "
      ]
     },
     "execution_count": 7,
     "metadata": {},
     "output_type": "execute_result"
    }
   ],
   "source": [
    "gamble_choices.head()"
   ]
  },
  {
   "cell_type": "code",
   "execution_count": 8,
   "metadata": {},
   "outputs": [
    {
     "data": {
      "text/html": [
       "<div>\n",
       "<style scoped>\n",
       "    .dataframe tbody tr th:only-of-type {\n",
       "        vertical-align: middle;\n",
       "    }\n",
       "\n",
       "    .dataframe tbody tr th {\n",
       "        vertical-align: top;\n",
       "    }\n",
       "\n",
       "    .dataframe thead th {\n",
       "        text-align: right;\n",
       "    }\n",
       "</style>\n",
       "<table border=\"1\" class=\"dataframe\">\n",
       "  <thead>\n",
       "    <tr style=\"text-align: right;\">\n",
       "      <th></th>\n",
       "      <th>round</th>\n",
       "      <th>newround.time</th>\n",
       "      <th>choice.time</th>\n",
       "      <th>buttonpress.time</th>\n",
       "      <th>conf.time</th>\n",
       "      <th>reveal.time</th>\n",
       "      <th>choice.location</th>\n",
       "      <th>choice.class</th>\n",
       "      <th>outcome</th>\n",
       "      <th>trial.included</th>\n",
       "    </tr>\n",
       "  </thead>\n",
       "  <tbody>\n",
       "    <tr>\n",
       "      <th>0</th>\n",
       "      <td>1</td>\n",
       "      <td>6.191</td>\n",
       "      <td>6.957</td>\n",
       "      <td>8.003</td>\n",
       "      <td>8.019</td>\n",
       "      <td>8.535</td>\n",
       "      <td>Left</td>\n",
       "      <td>Gamble</td>\n",
       "      <td>Win</td>\n",
       "      <td>1</td>\n",
       "    </tr>\n",
       "    <tr>\n",
       "      <th>1</th>\n",
       "      <td>2</td>\n",
       "      <td>9.550</td>\n",
       "      <td>10.316</td>\n",
       "      <td>11.441</td>\n",
       "      <td>11.457</td>\n",
       "      <td>11.972</td>\n",
       "      <td>Left</td>\n",
       "      <td>Gamble</td>\n",
       "      <td>Win</td>\n",
       "      <td>1</td>\n",
       "    </tr>\n",
       "    <tr>\n",
       "      <th>2</th>\n",
       "      <td>3</td>\n",
       "      <td>12.988</td>\n",
       "      <td>13.753</td>\n",
       "      <td>14.832</td>\n",
       "      <td>14.847</td>\n",
       "      <td>15.363</td>\n",
       "      <td>Left</td>\n",
       "      <td>Safebet</td>\n",
       "      <td>WouldHaveWon</td>\n",
       "      <td>1</td>\n",
       "    </tr>\n",
       "    <tr>\n",
       "      <th>3</th>\n",
       "      <td>4</td>\n",
       "      <td>16.378</td>\n",
       "      <td>17.144</td>\n",
       "      <td>18.144</td>\n",
       "      <td>18.175</td>\n",
       "      <td>18.691</td>\n",
       "      <td>Left</td>\n",
       "      <td>Gamble</td>\n",
       "      <td>Win</td>\n",
       "      <td>1</td>\n",
       "    </tr>\n",
       "    <tr>\n",
       "      <th>4</th>\n",
       "      <td>5</td>\n",
       "      <td>19.707</td>\n",
       "      <td>20.472</td>\n",
       "      <td>21.519</td>\n",
       "      <td>21.550</td>\n",
       "      <td>22.066</td>\n",
       "      <td>Right</td>\n",
       "      <td>Safebet</td>\n",
       "      <td>WouldHaveLost</td>\n",
       "      <td>1</td>\n",
       "    </tr>\n",
       "  </tbody>\n",
       "</table>\n",
       "</div>"
      ],
      "text/plain": [
       "   round  newround.time  choice.time  buttonpress.time  conf.time  \\\n",
       "0      1          6.191        6.957             8.003      8.019   \n",
       "1      2          9.550       10.316            11.441     11.457   \n",
       "2      3         12.988       13.753            14.832     14.847   \n",
       "3      4         16.378       17.144            18.144     18.175   \n",
       "4      5         19.707       20.472            21.519     21.550   \n",
       "\n",
       "   reveal.time choice.location choice.class        outcome  trial.included  \n",
       "0        8.535            Left       Gamble            Win               1  \n",
       "1       11.972            Left       Gamble            Win               1  \n",
       "2       15.363            Left      Safebet   WouldHaveWon               1  \n",
       "3       18.691            Left       Gamble            Win               1  \n",
       "4       22.066           Right      Safebet  WouldHaveLost               1  "
      ]
     },
     "execution_count": 8,
     "metadata": {},
     "output_type": "execute_result"
    }
   ],
   "source": [
    "sub1_ephys = ephys_data[\"s1\"]\n",
    "sub1_behavior = behavior_data[\"s1\"]\n",
    "sub1_behavior.head()"
   ]
  },
  {
   "cell_type": "code",
   "execution_count": 9,
   "metadata": {},
   "outputs": [
    {
     "data": {
      "text/html": [
       "<div>\n",
       "<style scoped>\n",
       "    .dataframe tbody tr th:only-of-type {\n",
       "        vertical-align: middle;\n",
       "    }\n",
       "\n",
       "    .dataframe tbody tr th {\n",
       "        vertical-align: top;\n",
       "    }\n",
       "\n",
       "    .dataframe thead th {\n",
       "        text-align: right;\n",
       "    }\n",
       "</style>\n",
       "<table border=\"1\" class=\"dataframe\">\n",
       "  <thead>\n",
       "    <tr style=\"text-align: right;\">\n",
       "      <th></th>\n",
       "      <th>round</th>\n",
       "      <th>newround.time</th>\n",
       "      <th>choice.time</th>\n",
       "      <th>buttonpress.time</th>\n",
       "      <th>conf.time</th>\n",
       "      <th>reveal.time</th>\n",
       "      <th>choice.location</th>\n",
       "      <th>choice.class</th>\n",
       "      <th>outcome</th>\n",
       "      <th>trial.included</th>\n",
       "      <th>Risky.Bet.Amount</th>\n",
       "      <th>Risky.bet.shown.number</th>\n",
       "    </tr>\n",
       "  </thead>\n",
       "  <tbody>\n",
       "    <tr>\n",
       "      <th>0</th>\n",
       "      <td>1</td>\n",
       "      <td>6.191</td>\n",
       "      <td>6.957</td>\n",
       "      <td>8.003</td>\n",
       "      <td>8.019</td>\n",
       "      <td>8.535</td>\n",
       "      <td>Left</td>\n",
       "      <td>Gamble</td>\n",
       "      <td>Win</td>\n",
       "      <td>1</td>\n",
       "      <td>30</td>\n",
       "      <td>1</td>\n",
       "    </tr>\n",
       "    <tr>\n",
       "      <th>1</th>\n",
       "      <td>2</td>\n",
       "      <td>9.550</td>\n",
       "      <td>10.316</td>\n",
       "      <td>11.441</td>\n",
       "      <td>11.457</td>\n",
       "      <td>11.972</td>\n",
       "      <td>Left</td>\n",
       "      <td>Gamble</td>\n",
       "      <td>Win</td>\n",
       "      <td>1</td>\n",
       "      <td>20</td>\n",
       "      <td>4</td>\n",
       "    </tr>\n",
       "    <tr>\n",
       "      <th>2</th>\n",
       "      <td>3</td>\n",
       "      <td>12.988</td>\n",
       "      <td>13.753</td>\n",
       "      <td>14.832</td>\n",
       "      <td>14.847</td>\n",
       "      <td>15.363</td>\n",
       "      <td>Left</td>\n",
       "      <td>Safebet</td>\n",
       "      <td>WouldHaveWon</td>\n",
       "      <td>1</td>\n",
       "      <td>25</td>\n",
       "      <td>7</td>\n",
       "    </tr>\n",
       "    <tr>\n",
       "      <th>3</th>\n",
       "      <td>4</td>\n",
       "      <td>16.378</td>\n",
       "      <td>17.144</td>\n",
       "      <td>18.144</td>\n",
       "      <td>18.175</td>\n",
       "      <td>18.691</td>\n",
       "      <td>Left</td>\n",
       "      <td>Gamble</td>\n",
       "      <td>Win</td>\n",
       "      <td>1</td>\n",
       "      <td>30</td>\n",
       "      <td>1</td>\n",
       "    </tr>\n",
       "    <tr>\n",
       "      <th>4</th>\n",
       "      <td>5</td>\n",
       "      <td>19.707</td>\n",
       "      <td>20.472</td>\n",
       "      <td>21.519</td>\n",
       "      <td>21.550</td>\n",
       "      <td>22.066</td>\n",
       "      <td>Right</td>\n",
       "      <td>Safebet</td>\n",
       "      <td>WouldHaveLost</td>\n",
       "      <td>1</td>\n",
       "      <td>25</td>\n",
       "      <td>6</td>\n",
       "    </tr>\n",
       "  </tbody>\n",
       "</table>\n",
       "</div>"
      ],
      "text/plain": [
       "   round  newround.time  choice.time  buttonpress.time  conf.time  \\\n",
       "0      1          6.191        6.957             8.003      8.019   \n",
       "1      2          9.550       10.316            11.441     11.457   \n",
       "2      3         12.988       13.753            14.832     14.847   \n",
       "3      4         16.378       17.144            18.144     18.175   \n",
       "4      5         19.707       20.472            21.519     21.550   \n",
       "\n",
       "   reveal.time choice.location choice.class        outcome  trial.included  \\\n",
       "0        8.535            Left       Gamble            Win               1   \n",
       "1       11.972            Left       Gamble            Win               1   \n",
       "2       15.363            Left      Safebet   WouldHaveWon               1   \n",
       "3       18.691            Left       Gamble            Win               1   \n",
       "4       22.066           Right      Safebet  WouldHaveLost               1   \n",
       "\n",
       "   Risky.Bet.Amount  Risky.bet.shown.number  \n",
       "0                30                       1  \n",
       "1                20                       4  \n",
       "2                25                       7  \n",
       "3                30                       1  \n",
       "4                25                       6  "
      ]
     },
     "execution_count": 9,
     "metadata": {},
     "output_type": "execute_result"
    }
   ],
   "source": [
    "df = pd.concat([sub1_behavior, gamble_choices[[\"Risky.Bet.Amount\", \"Risky.bet.shown.number\"]]], axis=1)\n",
    "df.head()"
   ]
  },
  {
   "cell_type": "code",
   "execution_count": 10,
   "metadata": {},
   "outputs": [
    {
     "data": {
      "text/plain": [
       "Gamble     124\n",
       "Safebet     72\n",
       "Timeout      4\n",
       "Name: choice.class, dtype: int64"
      ]
     },
     "execution_count": 10,
     "metadata": {},
     "output_type": "execute_result"
    }
   ],
   "source": [
    "df['choice.class'].value_counts()"
   ]
  },
  {
   "cell_type": "code",
   "execution_count": 11,
   "metadata": {},
   "outputs": [
    {
     "data": {
      "text/html": [
       "<div>\n",
       "<style scoped>\n",
       "    .dataframe tbody tr th:only-of-type {\n",
       "        vertical-align: middle;\n",
       "    }\n",
       "\n",
       "    .dataframe tbody tr th {\n",
       "        vertical-align: top;\n",
       "    }\n",
       "\n",
       "    .dataframe thead th {\n",
       "        text-align: right;\n",
       "    }\n",
       "</style>\n",
       "<table border=\"1\" class=\"dataframe\">\n",
       "  <thead>\n",
       "    <tr style=\"text-align: right;\">\n",
       "      <th></th>\n",
       "      <th>Risky.Bet.Amount</th>\n",
       "      <th>Risky.bet.shown.number</th>\n",
       "    </tr>\n",
       "  </thead>\n",
       "  <tbody>\n",
       "    <tr>\n",
       "      <th>0</th>\n",
       "      <td>30</td>\n",
       "      <td>1</td>\n",
       "    </tr>\n",
       "    <tr>\n",
       "      <th>1</th>\n",
       "      <td>20</td>\n",
       "      <td>4</td>\n",
       "    </tr>\n",
       "    <tr>\n",
       "      <th>2</th>\n",
       "      <td>25</td>\n",
       "      <td>7</td>\n",
       "    </tr>\n",
       "    <tr>\n",
       "      <th>3</th>\n",
       "      <td>30</td>\n",
       "      <td>1</td>\n",
       "    </tr>\n",
       "    <tr>\n",
       "      <th>4</th>\n",
       "      <td>25</td>\n",
       "      <td>6</td>\n",
       "    </tr>\n",
       "  </tbody>\n",
       "</table>\n",
       "</div>"
      ],
      "text/plain": [
       "   Risky.Bet.Amount  Risky.bet.shown.number\n",
       "0                30                       1\n",
       "1                20                       4\n",
       "2                25                       7\n",
       "3                30                       1\n",
       "4                25                       6"
      ]
     },
     "execution_count": 11,
     "metadata": {},
     "output_type": "execute_result"
    }
   ],
   "source": [
    "X = df[df['choice.class'] != 'Timeout'][['Risky.Bet.Amount', 'Risky.bet.shown.number']]\n",
    "X.head()"
   ]
  },
  {
   "cell_type": "code",
   "execution_count": 12,
   "metadata": {},
   "outputs": [
    {
     "data": {
      "text/html": [
       "<div>\n",
       "<style scoped>\n",
       "    .dataframe tbody tr th:only-of-type {\n",
       "        vertical-align: middle;\n",
       "    }\n",
       "\n",
       "    .dataframe tbody tr th {\n",
       "        vertical-align: top;\n",
       "    }\n",
       "\n",
       "    .dataframe thead th {\n",
       "        text-align: right;\n",
       "    }\n",
       "</style>\n",
       "<table border=\"1\" class=\"dataframe\">\n",
       "  <thead>\n",
       "    <tr style=\"text-align: right;\">\n",
       "      <th></th>\n",
       "      <th>Risky.Bet.Amount</th>\n",
       "      <th>Risky.bet.shown.number</th>\n",
       "    </tr>\n",
       "  </thead>\n",
       "  <tbody>\n",
       "    <tr>\n",
       "      <th>0</th>\n",
       "      <td>0.505102</td>\n",
       "      <td>-0.383163</td>\n",
       "    </tr>\n",
       "    <tr>\n",
       "      <th>1</th>\n",
       "      <td>-0.161565</td>\n",
       "      <td>-0.083163</td>\n",
       "    </tr>\n",
       "    <tr>\n",
       "      <th>2</th>\n",
       "      <td>0.171769</td>\n",
       "      <td>0.216837</td>\n",
       "    </tr>\n",
       "    <tr>\n",
       "      <th>3</th>\n",
       "      <td>0.505102</td>\n",
       "      <td>-0.383163</td>\n",
       "    </tr>\n",
       "    <tr>\n",
       "      <th>4</th>\n",
       "      <td>0.171769</td>\n",
       "      <td>0.116837</td>\n",
       "    </tr>\n",
       "  </tbody>\n",
       "</table>\n",
       "</div>"
      ],
      "text/plain": [
       "   Risky.Bet.Amount  Risky.bet.shown.number\n",
       "0          0.505102               -0.383163\n",
       "1         -0.161565               -0.083163\n",
       "2          0.171769                0.216837\n",
       "3          0.505102               -0.383163\n",
       "4          0.171769                0.116837"
      ]
     },
     "execution_count": 12,
     "metadata": {},
     "output_type": "execute_result"
    }
   ],
   "source": [
    "X_norm = (X - X.mean()) / (X.max() - X.min())\n",
    "X_norm.head()"
   ]
  },
  {
   "cell_type": "code",
   "execution_count": 13,
   "metadata": {},
   "outputs": [],
   "source": [
    "df = X['Risky.Bet.Amount']\n",
    "df_norm = (df - df.mean()) / (df.max() - df.min())"
   ]
  },
  {
   "cell_type": "code",
   "execution_count": 14,
   "metadata": {},
   "outputs": [
    {
     "data": {
      "text/html": [
       "<div>\n",
       "<style scoped>\n",
       "    .dataframe tbody tr th:only-of-type {\n",
       "        vertical-align: middle;\n",
       "    }\n",
       "\n",
       "    .dataframe tbody tr th {\n",
       "        vertical-align: top;\n",
       "    }\n",
       "\n",
       "    .dataframe thead th {\n",
       "        text-align: right;\n",
       "    }\n",
       "</style>\n",
       "<table border=\"1\" class=\"dataframe\">\n",
       "  <thead>\n",
       "    <tr style=\"text-align: right;\">\n",
       "      <th></th>\n",
       "      <th>round</th>\n",
       "      <th>newround.time</th>\n",
       "      <th>choice.time</th>\n",
       "      <th>buttonpress.time</th>\n",
       "      <th>conf.time</th>\n",
       "      <th>reveal.time</th>\n",
       "      <th>choice.location</th>\n",
       "      <th>choice.class</th>\n",
       "      <th>outcome</th>\n",
       "      <th>trial.included</th>\n",
       "    </tr>\n",
       "  </thead>\n",
       "  <tbody>\n",
       "    <tr>\n",
       "      <th>11</th>\n",
       "      <td>12</td>\n",
       "      <td>44.832</td>\n",
       "      <td>45.597</td>\n",
       "      <td>NaN</td>\n",
       "      <td>47.613</td>\n",
       "      <td>48.128</td>\n",
       "      <td>Timeout</td>\n",
       "      <td>Timeout</td>\n",
       "      <td>Timeout</td>\n",
       "      <td>0</td>\n",
       "    </tr>\n",
       "    <tr>\n",
       "      <th>15</th>\n",
       "      <td>16</td>\n",
       "      <td>60.597</td>\n",
       "      <td>61.363</td>\n",
       "      <td>NaN</td>\n",
       "      <td>63.378</td>\n",
       "      <td>63.894</td>\n",
       "      <td>Timeout</td>\n",
       "      <td>Timeout</td>\n",
       "      <td>Timeout</td>\n",
       "      <td>0</td>\n",
       "    </tr>\n",
       "    <tr>\n",
       "      <th>110</th>\n",
       "      <td>111</td>\n",
       "      <td>402.800</td>\n",
       "      <td>403.566</td>\n",
       "      <td>NaN</td>\n",
       "      <td>405.582</td>\n",
       "      <td>406.097</td>\n",
       "      <td>Timeout</td>\n",
       "      <td>Timeout</td>\n",
       "      <td>Timeout</td>\n",
       "      <td>0</td>\n",
       "    </tr>\n",
       "    <tr>\n",
       "      <th>156</th>\n",
       "      <td>157</td>\n",
       "      <td>562.253</td>\n",
       "      <td>563.019</td>\n",
       "      <td>NaN</td>\n",
       "      <td>565.035</td>\n",
       "      <td>565.550</td>\n",
       "      <td>Timeout</td>\n",
       "      <td>Timeout</td>\n",
       "      <td>Timeout</td>\n",
       "      <td>0</td>\n",
       "    </tr>\n",
       "  </tbody>\n",
       "</table>\n",
       "</div>"
      ],
      "text/plain": [
       "     round  newround.time  choice.time  buttonpress.time  conf.time  \\\n",
       "11      12         44.832       45.597               NaN     47.613   \n",
       "15      16         60.597       61.363               NaN     63.378   \n",
       "110    111        402.800      403.566               NaN    405.582   \n",
       "156    157        562.253      563.019               NaN    565.035   \n",
       "\n",
       "     reveal.time choice.location choice.class  outcome  trial.included  \n",
       "11        48.128         Timeout      Timeout  Timeout               0  \n",
       "15        63.894         Timeout      Timeout  Timeout               0  \n",
       "110      406.097         Timeout      Timeout  Timeout               0  \n",
       "156      565.550         Timeout      Timeout  Timeout               0  "
      ]
     },
     "execution_count": 14,
     "metadata": {},
     "output_type": "execute_result"
    }
   ],
   "source": [
    "sub1_behavior[sub1_behavior['choice.class'] == 'Timeout']"
   ]
  },
  {
   "cell_type": "code",
   "execution_count": 15,
   "metadata": {},
   "outputs": [
    {
     "data": {
      "text/plain": [
       "Int64Index([11, 15, 110, 156], dtype='int64')"
      ]
     },
     "execution_count": 15,
     "metadata": {},
     "output_type": "execute_result"
    }
   ],
   "source": [
    "idx = sub1_behavior[sub1_behavior['choice.class'] == 'Timeout'].index\n",
    "idx"
   ]
  },
  {
   "cell_type": "code",
   "execution_count": 16,
   "metadata": {},
   "outputs": [
    {
     "data": {
      "text/html": [
       "<div>\n",
       "<style scoped>\n",
       "    .dataframe tbody tr th:only-of-type {\n",
       "        vertical-align: middle;\n",
       "    }\n",
       "\n",
       "    .dataframe tbody tr th {\n",
       "        vertical-align: top;\n",
       "    }\n",
       "\n",
       "    .dataframe thead th {\n",
       "        text-align: right;\n",
       "    }\n",
       "</style>\n",
       "<table border=\"1\" class=\"dataframe\">\n",
       "  <thead>\n",
       "    <tr style=\"text-align: right;\">\n",
       "      <th></th>\n",
       "      <th>round</th>\n",
       "      <th>newround.time</th>\n",
       "      <th>choice.time</th>\n",
       "      <th>buttonpress.time</th>\n",
       "      <th>conf.time</th>\n",
       "      <th>reveal.time</th>\n",
       "      <th>choice.location</th>\n",
       "      <th>choice.class</th>\n",
       "      <th>outcome</th>\n",
       "      <th>trial.included</th>\n",
       "    </tr>\n",
       "  </thead>\n",
       "  <tbody>\n",
       "    <tr>\n",
       "      <th>11</th>\n",
       "      <td>12</td>\n",
       "      <td>44.832</td>\n",
       "      <td>45.597</td>\n",
       "      <td>NaN</td>\n",
       "      <td>47.613</td>\n",
       "      <td>48.128</td>\n",
       "      <td>Timeout</td>\n",
       "      <td>Timeout</td>\n",
       "      <td>Timeout</td>\n",
       "      <td>0</td>\n",
       "    </tr>\n",
       "    <tr>\n",
       "      <th>15</th>\n",
       "      <td>16</td>\n",
       "      <td>60.597</td>\n",
       "      <td>61.363</td>\n",
       "      <td>NaN</td>\n",
       "      <td>63.378</td>\n",
       "      <td>63.894</td>\n",
       "      <td>Timeout</td>\n",
       "      <td>Timeout</td>\n",
       "      <td>Timeout</td>\n",
       "      <td>0</td>\n",
       "    </tr>\n",
       "    <tr>\n",
       "      <th>110</th>\n",
       "      <td>111</td>\n",
       "      <td>402.800</td>\n",
       "      <td>403.566</td>\n",
       "      <td>NaN</td>\n",
       "      <td>405.582</td>\n",
       "      <td>406.097</td>\n",
       "      <td>Timeout</td>\n",
       "      <td>Timeout</td>\n",
       "      <td>Timeout</td>\n",
       "      <td>0</td>\n",
       "    </tr>\n",
       "    <tr>\n",
       "      <th>156</th>\n",
       "      <td>157</td>\n",
       "      <td>562.253</td>\n",
       "      <td>563.019</td>\n",
       "      <td>NaN</td>\n",
       "      <td>565.035</td>\n",
       "      <td>565.550</td>\n",
       "      <td>Timeout</td>\n",
       "      <td>Timeout</td>\n",
       "      <td>Timeout</td>\n",
       "      <td>0</td>\n",
       "    </tr>\n",
       "  </tbody>\n",
       "</table>\n",
       "</div>"
      ],
      "text/plain": [
       "     round  newround.time  choice.time  buttonpress.time  conf.time  \\\n",
       "11      12         44.832       45.597               NaN     47.613   \n",
       "15      16         60.597       61.363               NaN     63.378   \n",
       "110    111        402.800      403.566               NaN    405.582   \n",
       "156    157        562.253      563.019               NaN    565.035   \n",
       "\n",
       "     reveal.time choice.location choice.class  outcome  trial.included  \n",
       "11        48.128         Timeout      Timeout  Timeout               0  \n",
       "15        63.894         Timeout      Timeout  Timeout               0  \n",
       "110      406.097         Timeout      Timeout  Timeout               0  \n",
       "156      565.550         Timeout      Timeout  Timeout               0  "
      ]
     },
     "execution_count": 16,
     "metadata": {},
     "output_type": "execute_result"
    }
   ],
   "source": [
    "sub1_behavior.iloc[idx]"
   ]
  },
  {
   "cell_type": "code",
   "execution_count": 17,
   "metadata": {},
   "outputs": [],
   "source": [
    "def make_data(subjects=SUBJECTS):\n",
    "    data = {}\n",
    "    for s in subjects:\n",
    "        behav = behavior_data[s]\n",
    "        non_timeout_idx = behav[behav['choice.class'] != 'Timeout'].index\n",
    "        X = gamble_choices.iloc[non_timeout_idx][['Risky.Bet.Amount', 'Risky.bet.shown.number']]\n",
    "        y = behav.iloc[non_timeout_idx]['choice.class'].replace('Gamble', 1).replace('Safebet', 0)\n",
    "        X = X.reset_index(drop=True)\n",
    "        y = y.reset_index(drop=True)\n",
    "        data[s] = (X, y)\n",
    "    return data"
   ]
  },
  {
   "cell_type": "code",
   "execution_count": 18,
   "metadata": {},
   "outputs": [],
   "source": [
    "def make_normalized_data(subjects=SUBJECTS):\n",
    "    data = {}\n",
    "    for s in subjects:\n",
    "        behav = behavior_data[s]\n",
    "        non_timeout_idx = behav[behav['choice.class'] != 'Timeout'].index\n",
    "        X = gamble_choices.iloc[non_timeout_idx][['Risky.Bet.Amount', 'Risky.bet.shown.number']]\n",
    "        y = behav.iloc[non_timeout_idx]['choice.class'].replace('Gamble', 1).replace('Safebet', 0)\n",
    "        X = X.reset_index(drop=True)\n",
    "        y = y.reset_index(drop=True)\n",
    "        X_norm = (X - X.mean()) / (X.max() - X.min()) # normalize data\n",
    "        data[s] = (X_norm, y)\n",
    "    return data"
   ]
  },
  {
   "cell_type": "code",
   "execution_count": 19,
   "metadata": {},
   "outputs": [],
   "source": [
    "data = make_data()"
   ]
  },
  {
   "cell_type": "code",
   "execution_count": 20,
   "metadata": {},
   "outputs": [],
   "source": [
    "data_norm = make_normalized_data()"
   ]
  },
  {
   "cell_type": "code",
   "execution_count": 21,
   "metadata": {},
   "outputs": [
    {
     "data": {
      "text/html": [
       "<div>\n",
       "<style scoped>\n",
       "    .dataframe tbody tr th:only-of-type {\n",
       "        vertical-align: middle;\n",
       "    }\n",
       "\n",
       "    .dataframe tbody tr th {\n",
       "        vertical-align: top;\n",
       "    }\n",
       "\n",
       "    .dataframe thead th {\n",
       "        text-align: right;\n",
       "    }\n",
       "</style>\n",
       "<table border=\"1\" class=\"dataframe\">\n",
       "  <thead>\n",
       "    <tr style=\"text-align: right;\">\n",
       "      <th></th>\n",
       "      <th>Risky.Bet.Amount</th>\n",
       "      <th>Risky.bet.shown.number</th>\n",
       "    </tr>\n",
       "  </thead>\n",
       "  <tbody>\n",
       "    <tr>\n",
       "      <th>0</th>\n",
       "      <td>30</td>\n",
       "      <td>1</td>\n",
       "    </tr>\n",
       "    <tr>\n",
       "      <th>1</th>\n",
       "      <td>20</td>\n",
       "      <td>4</td>\n",
       "    </tr>\n",
       "    <tr>\n",
       "      <th>2</th>\n",
       "      <td>25</td>\n",
       "      <td>7</td>\n",
       "    </tr>\n",
       "    <tr>\n",
       "      <th>3</th>\n",
       "      <td>30</td>\n",
       "      <td>1</td>\n",
       "    </tr>\n",
       "    <tr>\n",
       "      <th>4</th>\n",
       "      <td>25</td>\n",
       "      <td>6</td>\n",
       "    </tr>\n",
       "  </tbody>\n",
       "</table>\n",
       "</div>"
      ],
      "text/plain": [
       "   Risky.Bet.Amount  Risky.bet.shown.number\n",
       "0                30                       1\n",
       "1                20                       4\n",
       "2                25                       7\n",
       "3                30                       1\n",
       "4                25                       6"
      ]
     },
     "execution_count": 21,
     "metadata": {},
     "output_type": "execute_result"
    }
   ],
   "source": [
    "data['s1'][0].head()"
   ]
  },
  {
   "cell_type": "code",
   "execution_count": 22,
   "metadata": {},
   "outputs": [
    {
     "data": {
      "text/html": [
       "<div>\n",
       "<style scoped>\n",
       "    .dataframe tbody tr th:only-of-type {\n",
       "        vertical-align: middle;\n",
       "    }\n",
       "\n",
       "    .dataframe tbody tr th {\n",
       "        vertical-align: top;\n",
       "    }\n",
       "\n",
       "    .dataframe thead th {\n",
       "        text-align: right;\n",
       "    }\n",
       "</style>\n",
       "<table border=\"1\" class=\"dataframe\">\n",
       "  <thead>\n",
       "    <tr style=\"text-align: right;\">\n",
       "      <th></th>\n",
       "      <th>Risky.Bet.Amount</th>\n",
       "      <th>Risky.bet.shown.number</th>\n",
       "    </tr>\n",
       "  </thead>\n",
       "  <tbody>\n",
       "    <tr>\n",
       "      <th>0</th>\n",
       "      <td>0.505102</td>\n",
       "      <td>-0.383163</td>\n",
       "    </tr>\n",
       "    <tr>\n",
       "      <th>1</th>\n",
       "      <td>-0.161565</td>\n",
       "      <td>-0.083163</td>\n",
       "    </tr>\n",
       "    <tr>\n",
       "      <th>2</th>\n",
       "      <td>0.171769</td>\n",
       "      <td>0.216837</td>\n",
       "    </tr>\n",
       "    <tr>\n",
       "      <th>3</th>\n",
       "      <td>0.505102</td>\n",
       "      <td>-0.383163</td>\n",
       "    </tr>\n",
       "    <tr>\n",
       "      <th>4</th>\n",
       "      <td>0.171769</td>\n",
       "      <td>0.116837</td>\n",
       "    </tr>\n",
       "  </tbody>\n",
       "</table>\n",
       "</div>"
      ],
      "text/plain": [
       "   Risky.Bet.Amount  Risky.bet.shown.number\n",
       "0          0.505102               -0.383163\n",
       "1         -0.161565               -0.083163\n",
       "2          0.171769                0.216837\n",
       "3          0.505102               -0.383163\n",
       "4          0.171769                0.116837"
      ]
     },
     "execution_count": 22,
     "metadata": {},
     "output_type": "execute_result"
    }
   ],
   "source": [
    "data_norm['s1'][0].head()"
   ]
  },
  {
   "cell_type": "code",
   "execution_count": 23,
   "metadata": {
    "scrolled": true
   },
   "outputs": [
    {
     "name": "stdout",
     "output_type": "stream",
     "text": [
      "LogisticRegression [0.85  0.75  0.7   0.925 0.85 ]\n",
      "LassoCV [0.58823906 0.48156191 0.27773411 0.63145393 0.59726858]\n",
      "RidgeCV [0.58790851 0.4817875  0.27912191 0.63098886 0.59660411]\n",
      "LinearSVC [0.925 0.75  0.75  0.975 0.85 ]\n",
      "NuSVC [0.9   0.825 0.7   0.975 0.875]\n",
      "SVC [0.9   0.825 0.7   0.975 0.875]\n",
      "DecisionTreeClassifier [0.9  0.8  0.7  0.95 0.85]\n",
      "ExtraTreeClassifier [0.9  0.8  0.7  0.95 0.85]\n",
      "RandomForestClassifier [0.925 0.85  0.7   0.95  0.9  ]\n",
      "ElasticNetCV [0.58823285 0.48156661 0.27784843 0.63144598 0.59718059]\n",
      "SGDClassifier [0.8   0.725 0.7   0.8   0.85 ]\n"
     ]
    },
    {
     "name": "stderr",
     "output_type": "stream",
     "text": [
      "C:\\Users\\MariLiis\\Anaconda3\\lib\\site-packages\\sklearn\\linear_model\\stochastic_gradient.py:128: FutureWarning: max_iter and tol parameters have been added in <class 'sklearn.linear_model.stochastic_gradient.SGDClassifier'> in 0.19. If both are left unset, they default to max_iter=5 and tol=None. If tol is not None, max_iter defaults to max_iter=1000. From 0.21, default max_iter will be 1000, and default tol will be 1e-3.\n",
      "  \"and default tol will be 1e-3.\" % type(self), FutureWarning)\n",
      "C:\\Users\\MariLiis\\Anaconda3\\lib\\site-packages\\sklearn\\linear_model\\stochastic_gradient.py:128: FutureWarning: max_iter and tol parameters have been added in <class 'sklearn.linear_model.stochastic_gradient.SGDClassifier'> in 0.19. If both are left unset, they default to max_iter=5 and tol=None. If tol is not None, max_iter defaults to max_iter=1000. From 0.21, default max_iter will be 1000, and default tol will be 1e-3.\n",
      "  \"and default tol will be 1e-3.\" % type(self), FutureWarning)\n",
      "C:\\Users\\MariLiis\\Anaconda3\\lib\\site-packages\\sklearn\\linear_model\\stochastic_gradient.py:128: FutureWarning: max_iter and tol parameters have been added in <class 'sklearn.linear_model.stochastic_gradient.SGDClassifier'> in 0.19. If both are left unset, they default to max_iter=5 and tol=None. If tol is not None, max_iter defaults to max_iter=1000. From 0.21, default max_iter will be 1000, and default tol will be 1e-3.\n",
      "  \"and default tol will be 1e-3.\" % type(self), FutureWarning)\n",
      "C:\\Users\\MariLiis\\Anaconda3\\lib\\site-packages\\sklearn\\linear_model\\stochastic_gradient.py:128: FutureWarning: max_iter and tol parameters have been added in <class 'sklearn.linear_model.stochastic_gradient.SGDClassifier'> in 0.19. If both are left unset, they default to max_iter=5 and tol=None. If tol is not None, max_iter defaults to max_iter=1000. From 0.21, default max_iter will be 1000, and default tol will be 1e-3.\n",
      "  \"and default tol will be 1e-3.\" % type(self), FutureWarning)\n",
      "C:\\Users\\MariLiis\\Anaconda3\\lib\\site-packages\\sklearn\\linear_model\\stochastic_gradient.py:128: FutureWarning: max_iter and tol parameters have been added in <class 'sklearn.linear_model.stochastic_gradient.SGDClassifier'> in 0.19. If both are left unset, they default to max_iter=5 and tol=None. If tol is not None, max_iter defaults to max_iter=1000. From 0.21, default max_iter will be 1000, and default tol will be 1e-3.\n",
      "  \"and default tol will be 1e-3.\" % type(self), FutureWarning)\n"
     ]
    }
   ],
   "source": [
    "X, y = data['s9']\n",
    "logr = LogisticRegression()\n",
    "print(\"LogisticRegression\", cross_val_score(logr, X, y, cv=5)) \n",
    "lasso = LassoCV()\n",
    "print(\"LassoCV\", cross_val_score(lasso, X, y, cv=5)) \n",
    "ridge = RidgeCV()\n",
    "print(\"RidgeCV\", cross_val_score(ridge, X, y, cv=5)) \n",
    "linsvc = LinearSVC()\n",
    "print(\"LinearSVC\", cross_val_score(linsvc, X, y, cv=5))\n",
    "nusvc = NuSVC()\n",
    "print(\"NuSVC\", cross_val_score(nusvc, X, y, cv=5))\n",
    "svc = SVC()\n",
    "print(\"SVC\", cross_val_score(svc, X, y, cv=5))\n",
    "dt = DecisionTreeClassifier()\n",
    "print(\"DecisionTreeClassifier\", cross_val_score(dt, X, y, cv=5))\n",
    "edt = ExtraTreeClassifier()\n",
    "print(\"ExtraTreeClassifier\", cross_val_score(edt, X, y, cv=5))\n",
    "rf = RandomForestClassifier()\n",
    "print(\"RandomForestClassifier\", cross_val_score(rf, X, y, cv=5))\n",
    "enet = ElasticNetCV()\n",
    "print(\"ElasticNetCV\", cross_val_score(enet, X, y, cv=5))\n",
    "sgd = SGDClassifier()\n",
    "print(\"SGDClassifier\", cross_val_score(sgd, X, y, cv=5))"
   ]
  },
  {
   "cell_type": "code",
   "execution_count": 24,
   "metadata": {},
   "outputs": [],
   "source": [
    "LR = \"LogisticRegression\"\n",
    "LASSO = \"LassoCV\"\n",
    "RIDGE = \"RidgeCV\"\n",
    "LSVC = \"LinearSVC\"\n",
    "NUSVC = \"NuSVC\"\n",
    "SVC = \"SVC\"\n",
    "ELNET = \"ElasticNetCV\"\n",
    "SGD = \"SGDClassifier\"\n",
    "MODELS = [LR, LASSO, RIDGE, LSVC, NUSVC, SVC, ELNET, SGD]"
   ]
  },
  {
   "cell_type": "code",
   "execution_count": 25,
   "metadata": {},
   "outputs": [
    {
     "name": "stdout",
     "output_type": "stream",
     "text": [
      "[1 2 3] [0]\n",
      "[0 2 3] [1]\n",
      "[0 1 3] [2]\n",
      "[0 1 2] [3]\n"
     ]
    }
   ],
   "source": [
    "np.array([[1,2], [3,4]]).mean(axis=0)\n",
    "\n",
    "A = np.array([[1, 2], [3, 4], [1, 2], [3, 4]])\n",
    "b = np.array([1, 2, 3, 4])\n",
    "kf = KFold(n_splits=4)\n",
    "for i1, i2 in kf.split(A):\n",
    "    print(i1, i2)"
   ]
  },
  {
   "cell_type": "code",
   "execution_count": 26,
   "metadata": {},
   "outputs": [],
   "source": [
    "def cross_validation(X, y, model, k=5):\n",
    "    test_accuracies = []\n",
    "    train_accuracies = []\n",
    "    X_weights = []\n",
    "    kf = KFold(n_splits=k)\n",
    "    \n",
    "    for idx_tr, idx_te in kf.split(X):\n",
    "        X_train = X.iloc[idx_tr]\n",
    "        y_train = y.iloc[idx_tr]\n",
    "        \n",
    "        X_test = X.iloc[idx_te]\n",
    "        y_test = y.iloc[idx_te]\n",
    "        \n",
    "        if model == LR:\n",
    "            logr = LogisticRegression()\n",
    "            logr.fit(X_train, y_train)\n",
    "            test_accuracies.append(logr.score(X_test, y_test))\n",
    "            train_accuracies.append(logr.score(X_train, y_train))\n",
    "            X_weights.append(logr.coef_)\n",
    "        \n",
    "        elif model == LSVC:\n",
    "            lsvc = LinearSVC()\n",
    "            lsvc.fit(X_train, y_train)\n",
    "            test_accuracies.append(lsvc.score(X_test, y_test))\n",
    "            train_accuracies.append(lsvc.score(X_train, y_train))\n",
    "            X_weights.append(lsvc.coef_)\n",
    "        \n",
    "        elif model == NUSVC:\n",
    "            nusvc = NuSVC()\n",
    "            nusvc.fit(X_train, y_train)\n",
    "            test_accuracies.append(nusvc.score(X_test, y_test))\n",
    "            train_accuracies.append(nusvc.score(X_train, y_train))\n",
    "#             X_weights.append(nusvc.coef_)  # coef_ only available with a linear kernel\n",
    "    \n",
    "    mean_test = round(np.array(test_accuracies).mean(), 3)\n",
    "    mean_train = round(np.array(train_accuracies).mean(), 3)\n",
    "    \n",
    "    return np.array(X_weights).mean(axis=0)[0], mean_test, mean_train"
   ]
  },
  {
   "cell_type": "code",
   "execution_count": 27,
   "metadata": {
    "scrolled": true
   },
   "outputs": [],
   "source": [
    "def test_models(data, models):\n",
    "    results = defaultdict(dict)\n",
    "    for m in models:\n",
    "        mean_coefs = []\n",
    "        test_accs = []\n",
    "        train_accs = []\n",
    "        for s in SUBJECTS:\n",
    "            X, y = data[s]\n",
    "            print(\"Subject\", s)\n",
    "            coefs, mean_test, mean_train = cross_validation(X, y, m)\n",
    "            mean_coefs.append(coefs)\n",
    "            test_accs.append(mean_test)\n",
    "            train_accs.append(mean_train)\n",
    "            print(\"Model %s, mean test acc %f, train acc %f\" % (m, mean_test, mean_train))\n",
    "            \n",
    "        results[m][\"mean_coefs\"] = mean_coefs\n",
    "        results[m][\"test_accs\"] = test_accs\n",
    "        results[m][\"train_accs\"] = train_accs\n",
    "\n",
    "    return results"
   ]
  },
  {
   "cell_type": "code",
   "execution_count": 28,
   "metadata": {
    "scrolled": true
   },
   "outputs": [
    {
     "name": "stdout",
     "output_type": "stream",
     "text": [
      "Subject s1\n",
      "Model LogisticRegression, mean test acc 0.786000, train acc 0.782000\n",
      "Subject s2\n",
      "Model LogisticRegression, mean test acc 0.879000, train acc 0.893000\n",
      "Subject s3\n",
      "Model LogisticRegression, mean test acc 0.690000, train acc 0.696000\n",
      "Subject s4\n",
      "Model LogisticRegression, mean test acc 0.389000, train acc 0.532000\n",
      "Subject s5\n",
      "Model LogisticRegression, mean test acc 0.699000, train acc 0.739000\n",
      "Subject s6\n",
      "Model LogisticRegression, mean test acc 0.895000, train acc 0.895000\n",
      "Subject s7\n",
      "Model LogisticRegression, mean test acc 0.865000, train acc 0.876000\n",
      "Subject s8\n",
      "Model LogisticRegression, mean test acc 0.680000, train acc 0.691000\n",
      "Subject s9\n",
      "Model LogisticRegression, mean test acc 0.805000, train acc 0.825000\n",
      "Subject s10\n",
      "Model LogisticRegression, mean test acc 0.529000, train acc 0.600000\n",
      "Subject s1\n",
      "Model LinearSVC, mean test acc 0.730000, train acc 0.776000\n",
      "Subject s2\n",
      "Model LinearSVC, mean test acc 0.904000, train acc 0.905000\n",
      "Subject s3\n",
      "Model LinearSVC, mean test acc 0.670000, train acc 0.648000\n",
      "Subject s4\n",
      "Model LinearSVC, mean test acc 0.398000, train acc 0.521000\n",
      "Subject s5\n",
      "Model LinearSVC, mean test acc 0.602000, train acc 0.719000\n",
      "Subject s6\n",
      "Model LinearSVC, mean test acc 0.900000, train acc 0.900000\n",
      "Subject s7\n",
      "Model LinearSVC, mean test acc 0.890000, train acc 0.890000\n",
      "Subject s8\n",
      "Model LinearSVC, mean test acc 0.615000, train acc 0.636000\n",
      "Subject s9\n",
      "Model LinearSVC, mean test acc 0.830000, train acc 0.805000\n",
      "Subject s10\n",
      "Model LinearSVC, mean test acc 0.444000, train acc 0.527000\n"
     ]
    }
   ],
   "source": [
    "results = test_models(data, [LR, LSVC])"
   ]
  },
  {
   "cell_type": "code",
   "execution_count": 29,
   "metadata": {
    "scrolled": true
   },
   "outputs": [
    {
     "name": "stdout",
     "output_type": "stream",
     "text": [
      "Subject s1\n",
      "Model LogisticRegression, mean test acc 0.791000, train acc 0.804000\n",
      "Subject s2\n",
      "Model LogisticRegression, mean test acc 0.919000, train acc 0.919000\n",
      "Subject s3\n",
      "Model LogisticRegression, mean test acc 0.670000, train acc 0.705000\n",
      "Subject s4\n",
      "Model LogisticRegression, mean test acc 0.417000, train acc 0.556000\n",
      "Subject s5\n",
      "Model LogisticRegression, mean test acc 0.724000, train acc 0.737000\n",
      "Subject s6\n",
      "Model LogisticRegression, mean test acc 0.915000, train acc 0.921000\n",
      "Subject s7\n",
      "Model LogisticRegression, mean test acc 0.905000, train acc 0.908000\n",
      "Subject s8\n",
      "Model LogisticRegression, mean test acc 0.675000, train acc 0.706000\n",
      "Subject s9\n",
      "Model LogisticRegression, mean test acc 0.835000, train acc 0.834000\n",
      "Subject s10\n",
      "Model LogisticRegression, mean test acc 0.543000, train acc 0.600000\n",
      "Subject s1\n",
      "Model LinearSVC, mean test acc 0.796000, train acc 0.796000\n",
      "Subject s2\n",
      "Model LinearSVC, mean test acc 0.924000, train acc 0.924000\n",
      "Subject s3\n",
      "Model LinearSVC, mean test acc 0.680000, train acc 0.708000\n",
      "Subject s4\n",
      "Model LinearSVC, mean test acc 0.398000, train acc 0.561000\n",
      "Subject s5\n",
      "Model LinearSVC, mean test acc 0.709000, train acc 0.745000\n",
      "Subject s6\n",
      "Model LinearSVC, mean test acc 0.935000, train acc 0.935000\n",
      "Subject s7\n",
      "Model LinearSVC, mean test acc 0.900000, train acc 0.909000\n",
      "Subject s8\n",
      "Model LinearSVC, mean test acc 0.680000, train acc 0.711000\n",
      "Subject s9\n",
      "Model LinearSVC, mean test acc 0.840000, train acc 0.838000\n",
      "Subject s10\n",
      "Model LinearSVC, mean test acc 0.521000, train acc 0.592000\n"
     ]
    }
   ],
   "source": [
    "results_norm = test_models(data_norm, [LR, LSVC])"
   ]
  },
  {
   "cell_type": "code",
   "execution_count": 30,
   "metadata": {},
   "outputs": [],
   "source": [
    "def plot_model_accs(results, plot_title=None):\n",
    "    rows = round(len(results) / 2)\n",
    "    fig, axes = plt.subplots(rows, 2, figsize=(10, 3 * rows))\n",
    "    axes = axes.flatten()\n",
    "    \n",
    "    models = list(results.keys())\n",
    "    for i in range(len(results)):\n",
    "        m = models[i] # model name\n",
    "        data = pd.DataFrame({\"subject\": SUBJECTS + SUBJECTS, \"accuracy\": results[m][\"test_accs\"] + results[m][\"train_accs\"], \n",
    "                                 \"type\": np.append(np.repeat(\"test\", len(SUBJECTS)), np.repeat(\"train\", len(SUBJECTS)))})\n",
    "        sns.pointplot(x=\"subject\", y=\"accuracy\", hue=\"type\", data=data, dodge=True, ax=axes[i]).set(\n",
    "            title=\"%s accuracies\" % m)\n",
    "    \n",
    "    if plot_title != None:\n",
    "        fig.savefig(plot_title + \".png\", bbox_inches='tight')"
   ]
  },
  {
   "cell_type": "code",
   "execution_count": 31,
   "metadata": {},
   "outputs": [
    {
     "data": {
      "image/png": "[encoded data removed]",
      "text/plain": [
       "<Figure size 720x216 with 2 Axes>"
      ]
     },
     "metadata": {
      "needs_background": "light"
     },
     "output_type": "display_data"
    }
   ],
   "source": [
    "plot_model_accs(results, \"LR_LSVC_accs\")"
   ]
  },
  {
   "cell_type": "code",
   "execution_count": 32,
   "metadata": {},
   "outputs": [
    {
     "data": {
      "image/png": "[encoded data removed]",
      "text/plain": [
       "<Figure size 720x216 with 2 Axes>"
      ]
     },
     "metadata": {
      "needs_background": "light"
     },
     "output_type": "display_data"
    }
   ],
   "source": [
    "plot_model_accs(results_norm)"
   ]
  },
  {
   "cell_type": "code",
   "execution_count": 33,
   "metadata": {},
   "outputs": [],
   "source": [
    "def plot_model_coefs(results, plot_title=None):\n",
    "    rows = round(len(results) / 2)\n",
    "    fig, axes = plt.subplots(rows, 2, figsize=(10, 3 * rows))\n",
    "    axes = axes.flatten()\n",
    "    \n",
    "    models = list(results.keys())\n",
    "    for i in range(len(results)):\n",
    "        m = models[i] # model name\n",
    "\n",
    "        data = pd.DataFrame({\"prize_coef\": np.array(results[m][\"mean_coefs\"])[:, 0],\n",
    "                                \"rnd_nr_coef\": np.array(results[m][\"mean_coefs\"])[:, 1], \n",
    "                                \"subject\": SUBJECTS}) \n",
    "        sns.scatterplot(x=\"prize_coef\", y=\"rnd_nr_coef\", hue=\"subject\", data=data, ax=axes[i]).set(\n",
    "            title=\"%s coefs\" % m)\n",
    "\n",
    "        # Show only one legend \n",
    "        if i < len(results) - 1:\n",
    "            axes[i].legend().remove()\n",
    "        else:\n",
    "            axes[i].legend(loc='center left', bbox_to_anchor=(1, 0.5))\n",
    "    \n",
    "    if plot_title != None:\n",
    "        fig.savefig(plot_title + \".png\", bbox_inches='tight')"
   ]
  },
  {
   "cell_type": "code",
   "execution_count": 34,
   "metadata": {},
   "outputs": [
    {
     "data": {
      "image/png": "[encoded data removed]",
      "text/plain": [
       "<Figure size 720x216 with 2 Axes>"
      ]
     },
     "metadata": {
      "needs_background": "light"
     },
     "output_type": "display_data"
    }
   ],
   "source": [
    "plot_model_coefs(results, \"LR_LSVC_coefs\")"
   ]
  },
  {
   "cell_type": "code",
   "execution_count": 35,
   "metadata": {},
   "outputs": [
    {
     "data": {
      "image/png": "[encoded data removed]",
      "text/plain": [
       "<Figure size 720x216 with 2 Axes>"
      ]
     },
     "metadata": {
      "needs_background": "light"
     },
     "output_type": "display_data"
    }
   ],
   "source": [
    "plot_model_coefs(results_norm)"
   ]
  },
  {
   "cell_type": "code",
   "execution_count": null,
   "metadata": {},
   "outputs": [],
   "source": []
  }
 ],
 "metadata": {
  "kernelspec": {
   "display_name": "Python 3",
   "language": "python",
   "name": "python3"
  },
  "language_info": {
   "codemirror_mode": {
    "name": "ipython",
    "version": 3
   },
   "file_extension": ".py",
   "mimetype": "text/x-python",
   "name": "python",
   "nbconvert_exporter": "python",
   "pygments_lexer": "ipython3",
   "version": "3.7.0"
  }
 },
 "nbformat": 4,
 "nbformat_minor": 1
}
