{
 "cells": [
  {
   "cell_type": "code",
   "execution_count": 146,
   "metadata": {},
   "outputs": [],
   "source": [
    "import file_reader as fr\n",
    "import itertools as it\n",
    "import pandas as pd\n",
    "from sklearn.linear_model import LogisticRegression, LassoCV, RidgeCV, ElasticNetCV, SGDClassifier\n",
    "from sklearn.model_selection import cross_val_score\n",
    "import numpy as np\n",
    "from sklearn.svm import LinearSVC, NuSVC, SVC\n",
    "from sklearn.tree import DecisionTreeClassifier, ExtraTreeClassifier\n",
    "from sklearn.ensemble import RandomForestClassifier\n",
    "\n",
    "from sklearn.model_selection import KFold\n",
    "import seaborn as sns\n",
    "import matplotlib.pyplot as plt\n",
    "\n",
    "%matplotlib inline"
   ]
  },
  {
   "cell_type": "code",
   "execution_count": 34,
   "metadata": {},
   "outputs": [],
   "source": [
    "ephys_data = fr.get_ephys_data()"
   ]
  },
  {
   "cell_type": "code",
   "execution_count": 35,
   "metadata": {},
   "outputs": [],
   "source": [
    "gamble_choices = fr.get_gamble_choices_data()"
   ]
  },
  {
   "cell_type": "code",
   "execution_count": 36,
   "metadata": {},
   "outputs": [
    {
     "name": "stderr",
     "output_type": "stream",
     "text": [
      "C:\\Users\\MariLiis\\Anaconda3\\lib\\site-packages\\pandas\\core\\indexing.py:189: SettingWithCopyWarning: \n",
      "A value is trying to be set on a copy of a slice from a DataFrame\n",
      "\n",
      "See the caveats in the documentation: http://pandas.pydata.org/pandas-docs/stable/indexing.html#indexing-view-versus-copy\n",
      "  self._setitem_with_indexer(indexer, value)\n"
     ]
    }
   ],
   "source": [
    "behavior_data = fr.get_behavior_data()"
   ]
  },
  {
   "cell_type": "code",
   "execution_count": 37,
   "metadata": {},
   "outputs": [],
   "source": [
    "regressor_data = fr.get_regressor_data()"
   ]
  },
  {
   "cell_type": "code",
   "execution_count": 80,
   "metadata": {},
   "outputs": [],
   "source": [
    "SUBJECTS = [\"s1\", \"s2\", \"s3\", \"s4\", \"s5\", \"s6\", \"s7\", \"s8\", \"s9\", \"s10\"]"
   ]
  },
  {
   "cell_type": "code",
   "execution_count": 38,
   "metadata": {},
   "outputs": [
    {
     "name": "stdout",
     "output_type": "stream",
     "text": [
      "dict_keys(['s1', 's2', 's3', 's4', 's5', 's6', 's7', 's8', 's9', 's10'])\n",
      "dict_keys(['s1', 's2', 's3', 's4', 's5', 's6', 's7', 's8', 's9', 's10'])\n"
     ]
    }
   ],
   "source": [
    "print(ephys_data.keys())\n",
    "print(behavior_data.keys())"
   ]
  },
  {
   "cell_type": "code",
   "execution_count": 39,
   "metadata": {},
   "outputs": [
    {
     "data": {
      "text/html": [
       "<div>\n",
       "<style scoped>\n",
       "    .dataframe tbody tr th:only-of-type {\n",
       "        vertical-align: middle;\n",
       "    }\n",
       "\n",
       "    .dataframe tbody tr th {\n",
       "        vertical-align: top;\n",
       "    }\n",
       "\n",
       "    .dataframe thead th {\n",
       "        text-align: right;\n",
       "    }\n",
       "</style>\n",
       "<table border=\"1\" class=\"dataframe\">\n",
       "  <thead>\n",
       "    <tr style=\"text-align: right;\">\n",
       "      <th></th>\n",
       "      <th>Safe.Bet.Amount</th>\n",
       "      <th>Risky.Bet.Amount</th>\n",
       "      <th>Risky.bet.shown.number</th>\n",
       "      <th>Risky.bet.hidden.number</th>\n",
       "      <th>Risky.Side</th>\n",
       "    </tr>\n",
       "  </thead>\n",
       "  <tbody>\n",
       "    <tr>\n",
       "      <th>0</th>\n",
       "      <td>10</td>\n",
       "      <td>30</td>\n",
       "      <td>1</td>\n",
       "      <td>5</td>\n",
       "      <td>Left</td>\n",
       "    </tr>\n",
       "    <tr>\n",
       "      <th>1</th>\n",
       "      <td>10</td>\n",
       "      <td>20</td>\n",
       "      <td>4</td>\n",
       "      <td>5</td>\n",
       "      <td>Left</td>\n",
       "    </tr>\n",
       "    <tr>\n",
       "      <th>2</th>\n",
       "      <td>10</td>\n",
       "      <td>25</td>\n",
       "      <td>7</td>\n",
       "      <td>8</td>\n",
       "      <td>Right</td>\n",
       "    </tr>\n",
       "    <tr>\n",
       "      <th>3</th>\n",
       "      <td>10</td>\n",
       "      <td>30</td>\n",
       "      <td>1</td>\n",
       "      <td>4</td>\n",
       "      <td>Left</td>\n",
       "    </tr>\n",
       "    <tr>\n",
       "      <th>4</th>\n",
       "      <td>10</td>\n",
       "      <td>25</td>\n",
       "      <td>6</td>\n",
       "      <td>1</td>\n",
       "      <td>Left</td>\n",
       "    </tr>\n",
       "  </tbody>\n",
       "</table>\n",
       "</div>"
      ],
      "text/plain": [
       "   Safe.Bet.Amount  Risky.Bet.Amount  Risky.bet.shown.number  \\\n",
       "0               10                30                       1   \n",
       "1               10                20                       4   \n",
       "2               10                25                       7   \n",
       "3               10                30                       1   \n",
       "4               10                25                       6   \n",
       "\n",
       "   Risky.bet.hidden.number Risky.Side  \n",
       "0                        5       Left  \n",
       "1                        5       Left  \n",
       "2                        8      Right  \n",
       "3                        4       Left  \n",
       "4                        1       Left  "
      ]
     },
     "execution_count": 39,
     "metadata": {},
     "output_type": "execute_result"
    }
   ],
   "source": [
    "gamble_choices.head()"
   ]
  },
  {
   "cell_type": "code",
   "execution_count": 40,
   "metadata": {},
   "outputs": [
    {
     "data": {
      "text/plain": [
       "20    59\n",
       "25    48\n",
       "15    47\n",
       "30    46\n",
       "Name: Risky.Bet.Amount, dtype: int64"
      ]
     },
     "execution_count": 40,
     "metadata": {},
     "output_type": "execute_result"
    }
   ],
   "source": [
    "gamble_choices['Risky.Bet.Amount'].value_counts()"
   ]
  },
  {
   "cell_type": "code",
   "execution_count": 41,
   "metadata": {},
   "outputs": [
    {
     "data": {
      "text/plain": [
       "6     24\n",
       "5     24\n",
       "4     24\n",
       "1     22\n",
       "8     21\n",
       "7     19\n",
       "2     18\n",
       "3     16\n",
       "9     11\n",
       "0     11\n",
       "10    10\n",
       "Name: Risky.bet.shown.number, dtype: int64"
      ]
     },
     "execution_count": 41,
     "metadata": {},
     "output_type": "execute_result"
    }
   ],
   "source": [
    "gamble_choices['Risky.bet.shown.number'].value_counts()"
   ]
  },
  {
   "cell_type": "code",
   "execution_count": 42,
   "metadata": {},
   "outputs": [
    {
     "data": {
      "text/html": [
       "<div>\n",
       "<style scoped>\n",
       "    .dataframe tbody tr th:only-of-type {\n",
       "        vertical-align: middle;\n",
       "    }\n",
       "\n",
       "    .dataframe tbody tr th {\n",
       "        vertical-align: top;\n",
       "    }\n",
       "\n",
       "    .dataframe thead th {\n",
       "        text-align: right;\n",
       "    }\n",
       "</style>\n",
       "<table border=\"1\" class=\"dataframe\">\n",
       "  <thead>\n",
       "    <tr style=\"text-align: right;\">\n",
       "      <th></th>\n",
       "      <th>round</th>\n",
       "      <th>newround.time</th>\n",
       "      <th>choice.time</th>\n",
       "      <th>buttonpress.time</th>\n",
       "      <th>conf.time</th>\n",
       "      <th>reveal.time</th>\n",
       "      <th>choice.location</th>\n",
       "      <th>choice.class</th>\n",
       "      <th>outcome</th>\n",
       "      <th>trial.included</th>\n",
       "    </tr>\n",
       "  </thead>\n",
       "  <tbody>\n",
       "    <tr>\n",
       "      <th>0</th>\n",
       "      <td>1</td>\n",
       "      <td>6.191</td>\n",
       "      <td>6.957</td>\n",
       "      <td>8.003</td>\n",
       "      <td>8.019</td>\n",
       "      <td>8.535</td>\n",
       "      <td>Left</td>\n",
       "      <td>Gamble</td>\n",
       "      <td>Win</td>\n",
       "      <td>1</td>\n",
       "    </tr>\n",
       "    <tr>\n",
       "      <th>1</th>\n",
       "      <td>2</td>\n",
       "      <td>9.550</td>\n",
       "      <td>10.316</td>\n",
       "      <td>11.441</td>\n",
       "      <td>11.457</td>\n",
       "      <td>11.972</td>\n",
       "      <td>Left</td>\n",
       "      <td>Gamble</td>\n",
       "      <td>Win</td>\n",
       "      <td>1</td>\n",
       "    </tr>\n",
       "    <tr>\n",
       "      <th>2</th>\n",
       "      <td>3</td>\n",
       "      <td>12.988</td>\n",
       "      <td>13.753</td>\n",
       "      <td>14.832</td>\n",
       "      <td>14.847</td>\n",
       "      <td>15.363</td>\n",
       "      <td>Left</td>\n",
       "      <td>Safebet</td>\n",
       "      <td>WouldHaveWon</td>\n",
       "      <td>1</td>\n",
       "    </tr>\n",
       "    <tr>\n",
       "      <th>3</th>\n",
       "      <td>4</td>\n",
       "      <td>16.378</td>\n",
       "      <td>17.144</td>\n",
       "      <td>18.144</td>\n",
       "      <td>18.175</td>\n",
       "      <td>18.691</td>\n",
       "      <td>Left</td>\n",
       "      <td>Gamble</td>\n",
       "      <td>Win</td>\n",
       "      <td>1</td>\n",
       "    </tr>\n",
       "    <tr>\n",
       "      <th>4</th>\n",
       "      <td>5</td>\n",
       "      <td>19.707</td>\n",
       "      <td>20.472</td>\n",
       "      <td>21.519</td>\n",
       "      <td>21.550</td>\n",
       "      <td>22.066</td>\n",
       "      <td>Right</td>\n",
       "      <td>Safebet</td>\n",
       "      <td>WouldHaveLost</td>\n",
       "      <td>1</td>\n",
       "    </tr>\n",
       "  </tbody>\n",
       "</table>\n",
       "</div>"
      ],
      "text/plain": [
       "   round  newround.time  choice.time  buttonpress.time  conf.time  \\\n",
       "0      1          6.191        6.957             8.003      8.019   \n",
       "1      2          9.550       10.316            11.441     11.457   \n",
       "2      3         12.988       13.753            14.832     14.847   \n",
       "3      4         16.378       17.144            18.144     18.175   \n",
       "4      5         19.707       20.472            21.519     21.550   \n",
       "\n",
       "   reveal.time choice.location choice.class        outcome  trial.included  \n",
       "0        8.535            Left       Gamble            Win               1  \n",
       "1       11.972            Left       Gamble            Win               1  \n",
       "2       15.363            Left      Safebet   WouldHaveWon               1  \n",
       "3       18.691            Left       Gamble            Win               1  \n",
       "4       22.066           Right      Safebet  WouldHaveLost               1  "
      ]
     },
     "execution_count": 42,
     "metadata": {},
     "output_type": "execute_result"
    }
   ],
   "source": [
    "sub1_ephys = ephys_data[\"s1\"]\n",
    "sub1_behavior = behavior_data[\"s1\"]\n",
    "sub1_behavior.head()"
   ]
  },
  {
   "cell_type": "code",
   "execution_count": 44,
   "metadata": {},
   "outputs": [
    {
     "data": {
      "text/html": [
       "<div>\n",
       "<style scoped>\n",
       "    .dataframe tbody tr th:only-of-type {\n",
       "        vertical-align: middle;\n",
       "    }\n",
       "\n",
       "    .dataframe tbody tr th {\n",
       "        vertical-align: top;\n",
       "    }\n",
       "\n",
       "    .dataframe thead th {\n",
       "        text-align: right;\n",
       "    }\n",
       "</style>\n",
       "<table border=\"1\" class=\"dataframe\">\n",
       "  <thead>\n",
       "    <tr style=\"text-align: right;\">\n",
       "      <th></th>\n",
       "      <th>round</th>\n",
       "      <th>newround.time</th>\n",
       "      <th>choice.time</th>\n",
       "      <th>buttonpress.time</th>\n",
       "      <th>conf.time</th>\n",
       "      <th>reveal.time</th>\n",
       "      <th>choice.location</th>\n",
       "      <th>choice.class</th>\n",
       "      <th>outcome</th>\n",
       "      <th>trial.included</th>\n",
       "      <th>Risky.Bet.Amount</th>\n",
       "      <th>Risky.bet.shown.number</th>\n",
       "    </tr>\n",
       "  </thead>\n",
       "  <tbody>\n",
       "    <tr>\n",
       "      <th>0</th>\n",
       "      <td>1</td>\n",
       "      <td>6.191</td>\n",
       "      <td>6.957</td>\n",
       "      <td>8.003</td>\n",
       "      <td>8.019</td>\n",
       "      <td>8.535</td>\n",
       "      <td>Left</td>\n",
       "      <td>Gamble</td>\n",
       "      <td>Win</td>\n",
       "      <td>1</td>\n",
       "      <td>30</td>\n",
       "      <td>1</td>\n",
       "    </tr>\n",
       "    <tr>\n",
       "      <th>1</th>\n",
       "      <td>2</td>\n",
       "      <td>9.550</td>\n",
       "      <td>10.316</td>\n",
       "      <td>11.441</td>\n",
       "      <td>11.457</td>\n",
       "      <td>11.972</td>\n",
       "      <td>Left</td>\n",
       "      <td>Gamble</td>\n",
       "      <td>Win</td>\n",
       "      <td>1</td>\n",
       "      <td>20</td>\n",
       "      <td>4</td>\n",
       "    </tr>\n",
       "    <tr>\n",
       "      <th>2</th>\n",
       "      <td>3</td>\n",
       "      <td>12.988</td>\n",
       "      <td>13.753</td>\n",
       "      <td>14.832</td>\n",
       "      <td>14.847</td>\n",
       "      <td>15.363</td>\n",
       "      <td>Left</td>\n",
       "      <td>Safebet</td>\n",
       "      <td>WouldHaveWon</td>\n",
       "      <td>1</td>\n",
       "      <td>25</td>\n",
       "      <td>7</td>\n",
       "    </tr>\n",
       "    <tr>\n",
       "      <th>3</th>\n",
       "      <td>4</td>\n",
       "      <td>16.378</td>\n",
       "      <td>17.144</td>\n",
       "      <td>18.144</td>\n",
       "      <td>18.175</td>\n",
       "      <td>18.691</td>\n",
       "      <td>Left</td>\n",
       "      <td>Gamble</td>\n",
       "      <td>Win</td>\n",
       "      <td>1</td>\n",
       "      <td>30</td>\n",
       "      <td>1</td>\n",
       "    </tr>\n",
       "    <tr>\n",
       "      <th>4</th>\n",
       "      <td>5</td>\n",
       "      <td>19.707</td>\n",
       "      <td>20.472</td>\n",
       "      <td>21.519</td>\n",
       "      <td>21.550</td>\n",
       "      <td>22.066</td>\n",
       "      <td>Right</td>\n",
       "      <td>Safebet</td>\n",
       "      <td>WouldHaveLost</td>\n",
       "      <td>1</td>\n",
       "      <td>25</td>\n",
       "      <td>6</td>\n",
       "    </tr>\n",
       "  </tbody>\n",
       "</table>\n",
       "</div>"
      ],
      "text/plain": [
       "   round  newround.time  choice.time  buttonpress.time  conf.time  \\\n",
       "0      1          6.191        6.957             8.003      8.019   \n",
       "1      2          9.550       10.316            11.441     11.457   \n",
       "2      3         12.988       13.753            14.832     14.847   \n",
       "3      4         16.378       17.144            18.144     18.175   \n",
       "4      5         19.707       20.472            21.519     21.550   \n",
       "\n",
       "   reveal.time choice.location choice.class        outcome  trial.included  \\\n",
       "0        8.535            Left       Gamble            Win               1   \n",
       "1       11.972            Left       Gamble            Win               1   \n",
       "2       15.363            Left      Safebet   WouldHaveWon               1   \n",
       "3       18.691            Left       Gamble            Win               1   \n",
       "4       22.066           Right      Safebet  WouldHaveLost               1   \n",
       "\n",
       "   Risky.Bet.Amount  Risky.bet.shown.number  \n",
       "0                30                       1  \n",
       "1                20                       4  \n",
       "2                25                       7  \n",
       "3                30                       1  \n",
       "4                25                       6  "
      ]
     },
     "execution_count": 44,
     "metadata": {},
     "output_type": "execute_result"
    }
   ],
   "source": [
    "df = pd.concat([sub1_behavior, gamble_choices[[\"Risky.Bet.Amount\", \"Risky.bet.shown.number\"]]], axis=1)\n",
    "df.head()"
   ]
  },
  {
   "cell_type": "code",
   "execution_count": 46,
   "metadata": {},
   "outputs": [
    {
     "data": {
      "text/plain": [
       "Gamble     124\n",
       "Safebet     72\n",
       "Timeout      4\n",
       "Name: choice.class, dtype: int64"
      ]
     },
     "execution_count": 46,
     "metadata": {},
     "output_type": "execute_result"
    }
   ],
   "source": [
    "df['choice.class'].value_counts()"
   ]
  },
  {
   "cell_type": "code",
   "execution_count": 47,
   "metadata": {},
   "outputs": [
    {
     "data": {
      "text/html": [
       "<div>\n",
       "<style scoped>\n",
       "    .dataframe tbody tr th:only-of-type {\n",
       "        vertical-align: middle;\n",
       "    }\n",
       "\n",
       "    .dataframe tbody tr th {\n",
       "        vertical-align: top;\n",
       "    }\n",
       "\n",
       "    .dataframe thead th {\n",
       "        text-align: right;\n",
       "    }\n",
       "</style>\n",
       "<table border=\"1\" class=\"dataframe\">\n",
       "  <thead>\n",
       "    <tr style=\"text-align: right;\">\n",
       "      <th></th>\n",
       "      <th>Risky.Bet.Amount</th>\n",
       "      <th>Risky.bet.shown.number</th>\n",
       "    </tr>\n",
       "  </thead>\n",
       "  <tbody>\n",
       "    <tr>\n",
       "      <th>0</th>\n",
       "      <td>30</td>\n",
       "      <td>1</td>\n",
       "    </tr>\n",
       "    <tr>\n",
       "      <th>1</th>\n",
       "      <td>20</td>\n",
       "      <td>4</td>\n",
       "    </tr>\n",
       "    <tr>\n",
       "      <th>2</th>\n",
       "      <td>25</td>\n",
       "      <td>7</td>\n",
       "    </tr>\n",
       "    <tr>\n",
       "      <th>3</th>\n",
       "      <td>30</td>\n",
       "      <td>1</td>\n",
       "    </tr>\n",
       "    <tr>\n",
       "      <th>4</th>\n",
       "      <td>25</td>\n",
       "      <td>6</td>\n",
       "    </tr>\n",
       "  </tbody>\n",
       "</table>\n",
       "</div>"
      ],
      "text/plain": [
       "   Risky.Bet.Amount  Risky.bet.shown.number\n",
       "0                30                       1\n",
       "1                20                       4\n",
       "2                25                       7\n",
       "3                30                       1\n",
       "4                25                       6"
      ]
     },
     "execution_count": 47,
     "metadata": {},
     "output_type": "execute_result"
    }
   ],
   "source": [
    "X = df[df['choice.class'] != 'Timeout'][['Risky.Bet.Amount', 'Risky.bet.shown.number']]\n",
    "X.head()"
   ]
  },
  {
   "cell_type": "code",
   "execution_count": 167,
   "metadata": {},
   "outputs": [
    {
     "data": {
      "text/html": [
       "<div>\n",
       "<style scoped>\n",
       "    .dataframe tbody tr th:only-of-type {\n",
       "        vertical-align: middle;\n",
       "    }\n",
       "\n",
       "    .dataframe tbody tr th {\n",
       "        vertical-align: top;\n",
       "    }\n",
       "\n",
       "    .dataframe thead th {\n",
       "        text-align: right;\n",
       "    }\n",
       "</style>\n",
       "<table border=\"1\" class=\"dataframe\">\n",
       "  <thead>\n",
       "    <tr style=\"text-align: right;\">\n",
       "      <th></th>\n",
       "      <th>Risky.Bet.Amount</th>\n",
       "      <th>Risky.bet.shown.number</th>\n",
       "    </tr>\n",
       "  </thead>\n",
       "  <tbody>\n",
       "    <tr>\n",
       "      <th>0</th>\n",
       "      <td>0.487923</td>\n",
       "      <td>-0.384058</td>\n",
       "    </tr>\n",
       "    <tr>\n",
       "      <th>1</th>\n",
       "      <td>-0.178744</td>\n",
       "      <td>-0.084058</td>\n",
       "    </tr>\n",
       "    <tr>\n",
       "      <th>2</th>\n",
       "      <td>0.154589</td>\n",
       "      <td>0.215942</td>\n",
       "    </tr>\n",
       "    <tr>\n",
       "      <th>3</th>\n",
       "      <td>0.487923</td>\n",
       "      <td>-0.384058</td>\n",
       "    </tr>\n",
       "    <tr>\n",
       "      <th>4</th>\n",
       "      <td>0.154589</td>\n",
       "      <td>0.115942</td>\n",
       "    </tr>\n",
       "  </tbody>\n",
       "</table>\n",
       "</div>"
      ],
      "text/plain": [
       "   Risky.Bet.Amount  Risky.bet.shown.number\n",
       "0          0.487923               -0.384058\n",
       "1         -0.178744               -0.084058\n",
       "2          0.154589                0.215942\n",
       "3          0.487923               -0.384058\n",
       "4          0.154589                0.115942"
      ]
     },
     "execution_count": 167,
     "metadata": {},
     "output_type": "execute_result"
    }
   ],
   "source": [
    "X_norm = (X - X.mean()) / (X.max() - X.min())\n",
    "X_norm.head()"
   ]
  },
  {
   "cell_type": "code",
   "execution_count": 185,
   "metadata": {},
   "outputs": [],
   "source": [
    "df = X['Risky.Bet.Amount']\n",
    "df_norm = (df - df.mean()) / (df.max() - df.min())"
   ]
  },
  {
   "cell_type": "code",
   "execution_count": 49,
   "metadata": {},
   "outputs": [
    {
     "data": {
      "text/plain": [
       "0    1\n",
       "1    1\n",
       "2    0\n",
       "3    1\n",
       "4    0\n",
       "Name: choice.class, dtype: int64"
      ]
     },
     "execution_count": 49,
     "metadata": {},
     "output_type": "execute_result"
    }
   ],
   "source": [
    "y = df[df['choice.class'] != 'Timeout']['choice.class'].replace('Gamble', 1).replace('Safebet', 0)\n",
    "y.head()"
   ]
  },
  {
   "cell_type": "code",
   "execution_count": 81,
   "metadata": {},
   "outputs": [
    {
     "data": {
      "text/html": [
       "<div>\n",
       "<style scoped>\n",
       "    .dataframe tbody tr th:only-of-type {\n",
       "        vertical-align: middle;\n",
       "    }\n",
       "\n",
       "    .dataframe tbody tr th {\n",
       "        vertical-align: top;\n",
       "    }\n",
       "\n",
       "    .dataframe thead th {\n",
       "        text-align: right;\n",
       "    }\n",
       "</style>\n",
       "<table border=\"1\" class=\"dataframe\">\n",
       "  <thead>\n",
       "    <tr style=\"text-align: right;\">\n",
       "      <th></th>\n",
       "      <th>round</th>\n",
       "      <th>newround.time</th>\n",
       "      <th>choice.time</th>\n",
       "      <th>buttonpress.time</th>\n",
       "      <th>conf.time</th>\n",
       "      <th>reveal.time</th>\n",
       "      <th>choice.location</th>\n",
       "      <th>choice.class</th>\n",
       "      <th>outcome</th>\n",
       "      <th>trial.included</th>\n",
       "    </tr>\n",
       "  </thead>\n",
       "  <tbody>\n",
       "    <tr>\n",
       "      <th>11</th>\n",
       "      <td>12</td>\n",
       "      <td>44.832</td>\n",
       "      <td>45.597</td>\n",
       "      <td>NaN</td>\n",
       "      <td>47.613</td>\n",
       "      <td>48.128</td>\n",
       "      <td>Timeout</td>\n",
       "      <td>Timeout</td>\n",
       "      <td>Timeout</td>\n",
       "      <td>0</td>\n",
       "    </tr>\n",
       "    <tr>\n",
       "      <th>15</th>\n",
       "      <td>16</td>\n",
       "      <td>60.597</td>\n",
       "      <td>61.363</td>\n",
       "      <td>NaN</td>\n",
       "      <td>63.378</td>\n",
       "      <td>63.894</td>\n",
       "      <td>Timeout</td>\n",
       "      <td>Timeout</td>\n",
       "      <td>Timeout</td>\n",
       "      <td>0</td>\n",
       "    </tr>\n",
       "    <tr>\n",
       "      <th>110</th>\n",
       "      <td>111</td>\n",
       "      <td>402.800</td>\n",
       "      <td>403.566</td>\n",
       "      <td>NaN</td>\n",
       "      <td>405.582</td>\n",
       "      <td>406.097</td>\n",
       "      <td>Timeout</td>\n",
       "      <td>Timeout</td>\n",
       "      <td>Timeout</td>\n",
       "      <td>0</td>\n",
       "    </tr>\n",
       "    <tr>\n",
       "      <th>156</th>\n",
       "      <td>157</td>\n",
       "      <td>562.253</td>\n",
       "      <td>563.019</td>\n",
       "      <td>NaN</td>\n",
       "      <td>565.035</td>\n",
       "      <td>565.550</td>\n",
       "      <td>Timeout</td>\n",
       "      <td>Timeout</td>\n",
       "      <td>Timeout</td>\n",
       "      <td>0</td>\n",
       "    </tr>\n",
       "  </tbody>\n",
       "</table>\n",
       "</div>"
      ],
      "text/plain": [
       "     round  newround.time  choice.time  buttonpress.time  conf.time  \\\n",
       "11      12         44.832       45.597               NaN     47.613   \n",
       "15      16         60.597       61.363               NaN     63.378   \n",
       "110    111        402.800      403.566               NaN    405.582   \n",
       "156    157        562.253      563.019               NaN    565.035   \n",
       "\n",
       "     reveal.time choice.location choice.class  outcome  trial.included  \n",
       "11        48.128         Timeout      Timeout  Timeout               0  \n",
       "15        63.894         Timeout      Timeout  Timeout               0  \n",
       "110      406.097         Timeout      Timeout  Timeout               0  \n",
       "156      565.550         Timeout      Timeout  Timeout               0  "
      ]
     },
     "execution_count": 81,
     "metadata": {},
     "output_type": "execute_result"
    }
   ],
   "source": [
    "sub1_behavior[sub1_behavior['choice.class'] == 'Timeout']"
   ]
  },
  {
   "cell_type": "code",
   "execution_count": 83,
   "metadata": {},
   "outputs": [
    {
     "data": {
      "text/plain": [
       "Int64Index([11, 15, 110, 156], dtype='int64')"
      ]
     },
     "execution_count": 83,
     "metadata": {},
     "output_type": "execute_result"
    }
   ],
   "source": [
    "idx = sub1_behavior[sub1_behavior['choice.class'] == 'Timeout'].index\n",
    "idx"
   ]
  },
  {
   "cell_type": "code",
   "execution_count": 84,
   "metadata": {},
   "outputs": [
    {
     "data": {
      "text/html": [
       "<div>\n",
       "<style scoped>\n",
       "    .dataframe tbody tr th:only-of-type {\n",
       "        vertical-align: middle;\n",
       "    }\n",
       "\n",
       "    .dataframe tbody tr th {\n",
       "        vertical-align: top;\n",
       "    }\n",
       "\n",
       "    .dataframe thead th {\n",
       "        text-align: right;\n",
       "    }\n",
       "</style>\n",
       "<table border=\"1\" class=\"dataframe\">\n",
       "  <thead>\n",
       "    <tr style=\"text-align: right;\">\n",
       "      <th></th>\n",
       "      <th>round</th>\n",
       "      <th>newround.time</th>\n",
       "      <th>choice.time</th>\n",
       "      <th>buttonpress.time</th>\n",
       "      <th>conf.time</th>\n",
       "      <th>reveal.time</th>\n",
       "      <th>choice.location</th>\n",
       "      <th>choice.class</th>\n",
       "      <th>outcome</th>\n",
       "      <th>trial.included</th>\n",
       "    </tr>\n",
       "  </thead>\n",
       "  <tbody>\n",
       "    <tr>\n",
       "      <th>11</th>\n",
       "      <td>12</td>\n",
       "      <td>44.832</td>\n",
       "      <td>45.597</td>\n",
       "      <td>NaN</td>\n",
       "      <td>47.613</td>\n",
       "      <td>48.128</td>\n",
       "      <td>Timeout</td>\n",
       "      <td>Timeout</td>\n",
       "      <td>Timeout</td>\n",
       "      <td>0</td>\n",
       "    </tr>\n",
       "    <tr>\n",
       "      <th>15</th>\n",
       "      <td>16</td>\n",
       "      <td>60.597</td>\n",
       "      <td>61.363</td>\n",
       "      <td>NaN</td>\n",
       "      <td>63.378</td>\n",
       "      <td>63.894</td>\n",
       "      <td>Timeout</td>\n",
       "      <td>Timeout</td>\n",
       "      <td>Timeout</td>\n",
       "      <td>0</td>\n",
       "    </tr>\n",
       "    <tr>\n",
       "      <th>110</th>\n",
       "      <td>111</td>\n",
       "      <td>402.800</td>\n",
       "      <td>403.566</td>\n",
       "      <td>NaN</td>\n",
       "      <td>405.582</td>\n",
       "      <td>406.097</td>\n",
       "      <td>Timeout</td>\n",
       "      <td>Timeout</td>\n",
       "      <td>Timeout</td>\n",
       "      <td>0</td>\n",
       "    </tr>\n",
       "    <tr>\n",
       "      <th>156</th>\n",
       "      <td>157</td>\n",
       "      <td>562.253</td>\n",
       "      <td>563.019</td>\n",
       "      <td>NaN</td>\n",
       "      <td>565.035</td>\n",
       "      <td>565.550</td>\n",
       "      <td>Timeout</td>\n",
       "      <td>Timeout</td>\n",
       "      <td>Timeout</td>\n",
       "      <td>0</td>\n",
       "    </tr>\n",
       "  </tbody>\n",
       "</table>\n",
       "</div>"
      ],
      "text/plain": [
       "     round  newround.time  choice.time  buttonpress.time  conf.time  \\\n",
       "11      12         44.832       45.597               NaN     47.613   \n",
       "15      16         60.597       61.363               NaN     63.378   \n",
       "110    111        402.800      403.566               NaN    405.582   \n",
       "156    157        562.253      563.019               NaN    565.035   \n",
       "\n",
       "     reveal.time choice.location choice.class  outcome  trial.included  \n",
       "11        48.128         Timeout      Timeout  Timeout               0  \n",
       "15        63.894         Timeout      Timeout  Timeout               0  \n",
       "110      406.097         Timeout      Timeout  Timeout               0  \n",
       "156      565.550         Timeout      Timeout  Timeout               0  "
      ]
     },
     "execution_count": 84,
     "metadata": {},
     "output_type": "execute_result"
    }
   ],
   "source": [
    "sub1_behavior.iloc[idx]"
   ]
  },
  {
   "cell_type": "code",
   "execution_count": 109,
   "metadata": {},
   "outputs": [],
   "source": [
    "def make_data(subjects=SUBJECTS):\n",
    "    data = {}\n",
    "    for s in subjects:\n",
    "        behav = behavior_data[s]\n",
    "        non_timeout_idx = behav[behav['choice.class'] != 'Timeout'].index\n",
    "        X = gamble_choices.iloc[non_timeout_idx][['Risky.Bet.Amount', 'Risky.bet.shown.number']]\n",
    "        y = behav.iloc[non_timeout_idx]['choice.class'].replace('Gamble', 1).replace('Safebet', 0)\n",
    "        X = X.reset_index(drop=True)\n",
    "        y = y.reset_index(drop=True)\n",
    "        data[s] = (X, y)\n",
    "    return data"
   ]
  },
  {
   "cell_type": "code",
   "execution_count": 168,
   "metadata": {},
   "outputs": [],
   "source": [
    "def make_normalized_data(subjects=SUBJECTS):\n",
    "    data = {}\n",
    "    for s in subjects:\n",
    "        behav = behavior_data[s]\n",
    "        non_timeout_idx = behav[behav['choice.class'] != 'Timeout'].index\n",
    "        X = gamble_choices.iloc[non_timeout_idx][['Risky.Bet.Amount', 'Risky.bet.shown.number']]\n",
    "        y = behav.iloc[non_timeout_idx]['choice.class'].replace('Gamble', 1).replace('Safebet', 0)\n",
    "        X = X.reset_index(drop=True)\n",
    "        y = y.reset_index(drop=True)\n",
    "        X_norm = (X - X.mean()) / (X.max() - X.min()) # normalize data\n",
    "        data[s] = (X_norm, y)\n",
    "    return data"
   ]
  },
  {
   "cell_type": "code",
   "execution_count": 110,
   "metadata": {},
   "outputs": [],
   "source": [
    "data = make_data()"
   ]
  },
  {
   "cell_type": "code",
   "execution_count": 177,
   "metadata": {},
   "outputs": [],
   "source": [
    "data_norm = make_normalized_data()"
   ]
  },
  {
   "cell_type": "code",
   "execution_count": 153,
   "metadata": {},
   "outputs": [
    {
     "data": {
      "text/html": [
       "<div>\n",
       "<style scoped>\n",
       "    .dataframe tbody tr th:only-of-type {\n",
       "        vertical-align: middle;\n",
       "    }\n",
       "\n",
       "    .dataframe tbody tr th {\n",
       "        vertical-align: top;\n",
       "    }\n",
       "\n",
       "    .dataframe thead th {\n",
       "        text-align: right;\n",
       "    }\n",
       "</style>\n",
       "<table border=\"1\" class=\"dataframe\">\n",
       "  <thead>\n",
       "    <tr style=\"text-align: right;\">\n",
       "      <th></th>\n",
       "      <th>Risky.Bet.Amount</th>\n",
       "      <th>Risky.bet.shown.number</th>\n",
       "    </tr>\n",
       "  </thead>\n",
       "  <tbody>\n",
       "    <tr>\n",
       "      <th>0</th>\n",
       "      <td>30</td>\n",
       "      <td>1</td>\n",
       "    </tr>\n",
       "    <tr>\n",
       "      <th>1</th>\n",
       "      <td>20</td>\n",
       "      <td>4</td>\n",
       "    </tr>\n",
       "    <tr>\n",
       "      <th>2</th>\n",
       "      <td>25</td>\n",
       "      <td>7</td>\n",
       "    </tr>\n",
       "    <tr>\n",
       "      <th>3</th>\n",
       "      <td>30</td>\n",
       "      <td>1</td>\n",
       "    </tr>\n",
       "    <tr>\n",
       "      <th>4</th>\n",
       "      <td>25</td>\n",
       "      <td>6</td>\n",
       "    </tr>\n",
       "  </tbody>\n",
       "</table>\n",
       "</div>"
      ],
      "text/plain": [
       "   Risky.Bet.Amount  Risky.bet.shown.number\n",
       "0                30                       1\n",
       "1                20                       4\n",
       "2                25                       7\n",
       "3                30                       1\n",
       "4                25                       6"
      ]
     },
     "execution_count": 153,
     "metadata": {},
     "output_type": "execute_result"
    }
   ],
   "source": [
    "data['s1'][0].head()"
   ]
  },
  {
   "cell_type": "code",
   "execution_count": 178,
   "metadata": {},
   "outputs": [
    {
     "data": {
      "text/html": [
       "<div>\n",
       "<style scoped>\n",
       "    .dataframe tbody tr th:only-of-type {\n",
       "        vertical-align: middle;\n",
       "    }\n",
       "\n",
       "    .dataframe tbody tr th {\n",
       "        vertical-align: top;\n",
       "    }\n",
       "\n",
       "    .dataframe thead th {\n",
       "        text-align: right;\n",
       "    }\n",
       "</style>\n",
       "<table border=\"1\" class=\"dataframe\">\n",
       "  <thead>\n",
       "    <tr style=\"text-align: right;\">\n",
       "      <th></th>\n",
       "      <th>Risky.Bet.Amount</th>\n",
       "      <th>Risky.bet.shown.number</th>\n",
       "    </tr>\n",
       "  </thead>\n",
       "  <tbody>\n",
       "    <tr>\n",
       "      <th>0</th>\n",
       "      <td>0.505102</td>\n",
       "      <td>-0.383163</td>\n",
       "    </tr>\n",
       "    <tr>\n",
       "      <th>1</th>\n",
       "      <td>-0.161565</td>\n",
       "      <td>-0.083163</td>\n",
       "    </tr>\n",
       "    <tr>\n",
       "      <th>2</th>\n",
       "      <td>0.171769</td>\n",
       "      <td>0.216837</td>\n",
       "    </tr>\n",
       "    <tr>\n",
       "      <th>3</th>\n",
       "      <td>0.505102</td>\n",
       "      <td>-0.383163</td>\n",
       "    </tr>\n",
       "    <tr>\n",
       "      <th>4</th>\n",
       "      <td>0.171769</td>\n",
       "      <td>0.116837</td>\n",
       "    </tr>\n",
       "  </tbody>\n",
       "</table>\n",
       "</div>"
      ],
      "text/plain": [
       "   Risky.Bet.Amount  Risky.bet.shown.number\n",
       "0          0.505102               -0.383163\n",
       "1         -0.161565               -0.083163\n",
       "2          0.171769                0.216837\n",
       "3          0.505102               -0.383163\n",
       "4          0.171769                0.116837"
      ]
     },
     "execution_count": 178,
     "metadata": {},
     "output_type": "execute_result"
    }
   ],
   "source": [
    "data_norm['s1'][0].head()"
   ]
  },
  {
   "cell_type": "code",
   "execution_count": 154,
   "metadata": {
    "scrolled": true
   },
   "outputs": [
    {
     "name": "stdout",
     "output_type": "stream",
     "text": [
      "[0.60714286 0.57142857 0.57142857 0.53571429 0.61538462]\n",
      "[-0.1551157  -0.00793565 -0.13306474 -0.02166029 -0.05124861]\n",
      "[-0.16406341  0.02481855 -0.16192645 -0.09415026 -0.24727007]\n",
      "[0.42857143 0.5        0.57142857 0.57142857 0.53846154]\n",
      "[0.35714286 0.42857143 0.42857143 0.5        0.53846154]\n",
      "[0.57142857 0.46428571 0.53571429 0.42857143 0.61538462]\n",
      "[0.57142857 0.42857143 0.60714286 0.42857143 0.53846154]\n",
      "[0.57142857 0.42857143 0.60714286 0.39285714 0.53846154]\n",
      "[0.46428571 0.46428571 0.64285714 0.5        0.53846154]\n",
      "[-0.1551157  -0.00793565 -0.13306474 -0.02166029 -0.05124861]\n",
      "[0.57142857 0.57142857 0.57142857 0.42857143 0.42307692]\n"
     ]
    },
    {
     "name": "stderr",
     "output_type": "stream",
     "text": [
      "C:\\Users\\MariLiis\\Anaconda3\\lib\\site-packages\\sklearn\\linear_model\\stochastic_gradient.py:128: FutureWarning: max_iter and tol parameters have been added in <class 'sklearn.linear_model.stochastic_gradient.SGDClassifier'> in 0.19. If both are left unset, they default to max_iter=5 and tol=None. If tol is not None, max_iter defaults to max_iter=1000. From 0.21, default max_iter will be 1000, and default tol will be 1e-3.\n",
      "  \"and default tol will be 1e-3.\" % type(self), FutureWarning)\n",
      "C:\\Users\\MariLiis\\Anaconda3\\lib\\site-packages\\sklearn\\linear_model\\stochastic_gradient.py:128: FutureWarning: max_iter and tol parameters have been added in <class 'sklearn.linear_model.stochastic_gradient.SGDClassifier'> in 0.19. If both are left unset, they default to max_iter=5 and tol=None. If tol is not None, max_iter defaults to max_iter=1000. From 0.21, default max_iter will be 1000, and default tol will be 1e-3.\n",
      "  \"and default tol will be 1e-3.\" % type(self), FutureWarning)\n",
      "C:\\Users\\MariLiis\\Anaconda3\\lib\\site-packages\\sklearn\\linear_model\\stochastic_gradient.py:128: FutureWarning: max_iter and tol parameters have been added in <class 'sklearn.linear_model.stochastic_gradient.SGDClassifier'> in 0.19. If both are left unset, they default to max_iter=5 and tol=None. If tol is not None, max_iter defaults to max_iter=1000. From 0.21, default max_iter will be 1000, and default tol will be 1e-3.\n",
      "  \"and default tol will be 1e-3.\" % type(self), FutureWarning)\n",
      "C:\\Users\\MariLiis\\Anaconda3\\lib\\site-packages\\sklearn\\linear_model\\stochastic_gradient.py:128: FutureWarning: max_iter and tol parameters have been added in <class 'sklearn.linear_model.stochastic_gradient.SGDClassifier'> in 0.19. If both are left unset, they default to max_iter=5 and tol=None. If tol is not None, max_iter defaults to max_iter=1000. From 0.21, default max_iter will be 1000, and default tol will be 1e-3.\n",
      "  \"and default tol will be 1e-3.\" % type(self), FutureWarning)\n",
      "C:\\Users\\MariLiis\\Anaconda3\\lib\\site-packages\\sklearn\\linear_model\\stochastic_gradient.py:128: FutureWarning: max_iter and tol parameters have been added in <class 'sklearn.linear_model.stochastic_gradient.SGDClassifier'> in 0.19. If both are left unset, they default to max_iter=5 and tol=None. If tol is not None, max_iter defaults to max_iter=1000. From 0.21, default max_iter will be 1000, and default tol will be 1e-3.\n",
      "  \"and default tol will be 1e-3.\" % type(self), FutureWarning)\n"
     ]
    }
   ],
   "source": [
    "logr = LogisticRegression()\n",
    "print(cross_val_score(logr, X, y, cv=5)) \n",
    "lasso = LassoCV()\n",
    "print(cross_val_score(lasso, X, y, cv=5)) \n",
    "ridge = RidgeCV()\n",
    "print(cross_val_score(ridge, X, y, cv=5)) \n",
    "linsvc = LinearSVC()\n",
    "print(cross_val_score(linsvc, X, y, cv=5))\n",
    "nusvc = NuSVC()\n",
    "print(cross_val_score(nusvc, X, y, cv=5))\n",
    "svc = SVC()\n",
    "print(cross_val_score(svc, X, y, cv=5))\n",
    "dt = DecisionTreeClassifier()\n",
    "print(cross_val_score(dt, X, y, cv=5))\n",
    "edt = ExtraTreeClassifier()\n",
    "print(cross_val_score(edt, X, y, cv=5))\n",
    "rf = RandomForestClassifier()\n",
    "print(cross_val_score(rf, X, y, cv=5))\n",
    "enet = ElasticNetCV()\n",
    "print(cross_val_score(enet, X, y, cv=5))\n",
    "sgd = SGDClassifier()\n",
    "print(cross_val_score(sgd, X, y, cv=5))"
   ]
  },
  {
   "cell_type": "code",
   "execution_count": 79,
   "metadata": {},
   "outputs": [],
   "source": [
    "MODELS = [\"LR\", \"LASSO\", \"RIDGE\", \"LINSVC\", \"NUSVC\", \"SVC\", \"ELNET\", \"SGD\"]"
   ]
  },
  {
   "cell_type": "code",
   "execution_count": 108,
   "metadata": {},
   "outputs": [
    {
     "name": "stdout",
     "output_type": "stream",
     "text": [
      "[1 2 3] [0]\n",
      "[0 2 3] [1]\n",
      "[0 1 3] [2]\n",
      "[0 1 2] [3]\n"
     ]
    }
   ],
   "source": [
    "np.array([[1,2], [3,4]]).mean(axis=0)\n",
    "\n",
    "A = np.array([[1, 2], [3, 4], [1, 2], [3, 4]])\n",
    "b = np.array([1, 2, 3, 4])\n",
    "kf = KFold(n_splits=4)\n",
    "for i1, i2 in kf.split(A):\n",
    "    print(i1, i2)"
   ]
  },
  {
   "cell_type": "code",
   "execution_count": 141,
   "metadata": {},
   "outputs": [],
   "source": [
    "def cross_validation(X, y, model, k=5):\n",
    "    test_accuracies = []\n",
    "    train_accuracies = []\n",
    "    X_weights = []\n",
    "    kf = KFold(n_splits=k)\n",
    "    \n",
    "    for idx_tr, idx_te in kf.split(X):\n",
    "        X_train = X.iloc[idx_tr]\n",
    "        y_train = y.iloc[idx_tr]\n",
    "        \n",
    "        X_test = X.iloc[idx_te]\n",
    "        y_test = y.iloc[idx_te]\n",
    "        \n",
    "        if model == \"LR\":\n",
    "            logr = LogisticRegression()\n",
    "            logr.fit(X_train, y_train)\n",
    "            test_accuracies.append(logr.score(X_test, y_test))\n",
    "            train_accuracies.append(logr.score(X_train, y_train))\n",
    "            X_weights.append(logr.coef_)\n",
    "        \n",
    "        elif model == \"LSVC\":\n",
    "            lsvc = LinearSVC()\n",
    "            lsvc.fit(X_train, y_train)\n",
    "            test_accuracies.append(lsvc.score(X_test, y_test))\n",
    "            train_accuracies.append(lsvc.score(X_train, y_train))\n",
    "            X_weights.append(lsvc.coef_)\n",
    "    \n",
    "    mean_test = round(np.array(test_accuracies).mean(), 3)\n",
    "    mean_train = round(np.array(train_accuracies).mean(), 3)\n",
    "    \n",
    "    return np.array(X_weights).mean(axis=0)[0], mean_test, mean_train"
   ]
  },
  {
   "cell_type": "code",
   "execution_count": 170,
   "metadata": {
    "scrolled": true
   },
   "outputs": [],
   "source": [
    "def test_LR_LSVC(data):\n",
    "    mean_coefs_LR = []\n",
    "    mean_coefs_LSVC = []\n",
    "    test_accs_LR = []\n",
    "    train_accs_LR = []\n",
    "    test_accs_LSVC = []\n",
    "    train_accs_LSVC = []\n",
    "\n",
    "    for s in SUBJECTS:\n",
    "        X, y = data[s]\n",
    "        print(\"Subject\", s)\n",
    "        coefs_LR, mean_test_LR, mean_train_LR = cross_validation(X, y, \"LR\")\n",
    "        mean_coefs_LR.append(coefs_LR)\n",
    "        test_accs_LR.append(mean_test_LR)\n",
    "        train_accs_LR.append(mean_train_LR)\n",
    "        print(\"Model LR, mean test acc %f, train acc %f\" % (mean_test_LR, mean_train_LR))        \n",
    "\n",
    "        coefs_LSVC, mean_test_LSVC, mean_train_LSVC = cross_validation(X, y, \"LSVC\")    \n",
    "        mean_coefs_LSVC.append(coefs_LSVC)\n",
    "        test_accs_LSVC.append(mean_test_LSVC)\n",
    "        train_accs_LSVC.append(mean_train_LSVC)\n",
    "        print(\"Model LR, mean test acc %f, train acc %f\" % (mean_test_LSVC, mean_train_LSVC))\n",
    "\n",
    "    return mean_coefs_LR, test_accs_LR, train_accs_LR, mean_coefs_LSVC, test_accs_LSVC, train_accs_LSVC"
   ]
  },
  {
   "cell_type": "code",
   "execution_count": 171,
   "metadata": {
    "scrolled": true
   },
   "outputs": [
    {
     "name": "stdout",
     "output_type": "stream",
     "text": [
      "Subject s1\n",
      "Model LR, mean test acc 0.786000, train acc 0.782000\n",
      "Model LR, mean test acc 0.761000, train acc 0.768000\n",
      "Subject s2\n",
      "Model LR, mean test acc 0.879000, train acc 0.893000\n",
      "Model LR, mean test acc 0.879000, train acc 0.876000\n",
      "Subject s3\n",
      "Model LR, mean test acc 0.690000, train acc 0.696000\n",
      "Model LR, mean test acc 0.680000, train acc 0.645000\n",
      "Subject s4\n",
      "Model LR, mean test acc 0.389000, train acc 0.532000\n",
      "Model LR, mean test acc 0.665000, train acc 0.471000\n",
      "Subject s5\n",
      "Model LR, mean test acc 0.699000, train acc 0.739000\n",
      "Model LR, mean test acc 0.647000, train acc 0.677000\n",
      "Subject s6\n",
      "Model LR, mean test acc 0.895000, train acc 0.895000\n",
      "Model LR, mean test acc 0.885000, train acc 0.896000\n",
      "Subject s7\n",
      "Model LR, mean test acc 0.865000, train acc 0.876000\n",
      "Model LR, mean test acc 0.885000, train acc 0.900000\n",
      "Subject s8\n",
      "Model LR, mean test acc 0.680000, train acc 0.691000\n",
      "Model LR, mean test acc 0.610000, train acc 0.674000\n",
      "Subject s9\n",
      "Model LR, mean test acc 0.805000, train acc 0.825000\n",
      "Model LR, mean test acc 0.805000, train acc 0.821000\n",
      "Subject s10\n",
      "Model LR, mean test acc 0.529000, train acc 0.600000\n",
      "Model LR, mean test acc 0.487000, train acc 0.533000\n"
     ]
    }
   ],
   "source": [
    "mean_coefs_LR, test_accs_LR, train_accs_LR, mean_coefs_LSVC, test_accs_LSVC, train_accs_LSVC = test_LR_LSVC(data)"
   ]
  },
  {
   "cell_type": "code",
   "execution_count": 179,
   "metadata": {
    "scrolled": true
   },
   "outputs": [
    {
     "name": "stdout",
     "output_type": "stream",
     "text": [
      "Subject s1\n",
      "Model LR, mean test acc 0.791000, train acc 0.804000\n",
      "Model LR, mean test acc 0.796000, train acc 0.796000\n",
      "Subject s2\n",
      "Model LR, mean test acc 0.919000, train acc 0.919000\n",
      "Model LR, mean test acc 0.924000, train acc 0.924000\n",
      "Subject s3\n",
      "Model LR, mean test acc 0.670000, train acc 0.705000\n",
      "Model LR, mean test acc 0.680000, train acc 0.708000\n",
      "Subject s4\n",
      "Model LR, mean test acc 0.417000, train acc 0.556000\n",
      "Model LR, mean test acc 0.398000, train acc 0.561000\n",
      "Subject s5\n",
      "Model LR, mean test acc 0.724000, train acc 0.737000\n",
      "Model LR, mean test acc 0.709000, train acc 0.745000\n",
      "Subject s6\n",
      "Model LR, mean test acc 0.915000, train acc 0.921000\n",
      "Model LR, mean test acc 0.935000, train acc 0.935000\n",
      "Subject s7\n",
      "Model LR, mean test acc 0.905000, train acc 0.908000\n",
      "Model LR, mean test acc 0.900000, train acc 0.909000\n",
      "Subject s8\n",
      "Model LR, mean test acc 0.675000, train acc 0.706000\n",
      "Model LR, mean test acc 0.680000, train acc 0.711000\n",
      "Subject s9\n",
      "Model LR, mean test acc 0.835000, train acc 0.834000\n",
      "Model LR, mean test acc 0.840000, train acc 0.838000\n",
      "Subject s10\n",
      "Model LR, mean test acc 0.543000, train acc 0.600000\n",
      "Model LR, mean test acc 0.521000, train acc 0.592000\n"
     ]
    }
   ],
   "source": [
    "mean_coefs_LR_n, test_accs_LR_n, train_accs_LR_n, mean_coefs_LSVC_n, test_accs_LSVC_n, train_accs_LSVC_n = test_LR_LSVC(data_norm)"
   ]
  },
  {
   "cell_type": "code",
   "execution_count": 172,
   "metadata": {},
   "outputs": [],
   "source": [
    "def plot_LR_LSVC_accs(test_accs_LR, train_accs_LR, test_accs_LSVC, train_accs_LSVC):\n",
    "    fig, axes = plt.subplots(1, 2, figsize=(10, 3))\n",
    "    axes = axes.flatten()\n",
    "\n",
    "    data1 = pd.DataFrame({\"subject\": SUBJECTS + SUBJECTS, \"accuracy\": test_accs_LR + train_accs_LR, \n",
    "                             \"type\": np.append(np.repeat(\"test\", len(SUBJECTS)), np.repeat(\"train\", len(SUBJECTS)))})\n",
    "    sns.pointplot(x=\"subject\", y=\"accuracy\", hue=\"type\", data=data1, dodge=True, ax=axes[0]).set(\n",
    "        title=\"Logistic regression accuracies\")\n",
    "\n",
    "    data2 = pd.DataFrame({\"subject\": SUBJECTS + SUBJECTS, \"accuracy\": test_accs_LSVC + train_accs_LSVC, \n",
    "                             \"type\": np.append(np.repeat(\"test\", len(SUBJECTS)), np.repeat(\"train\", len(SUBJECTS)))})\n",
    "    sns.pointplot(x=\"subject\", y=\"accuracy\", hue=\"type\", data=data2, dodge=True, ax=axes[1]).set(\n",
    "        title=\"Linear SVC accuracies\")"
   ]
  },
  {
   "cell_type": "code",
   "execution_count": 173,
   "metadata": {},
   "outputs": [
    {
     "data": {
      "image/png": "[encoded data removed]",
      "text/plain": [
       "<Figure size 720x216 with 2 Axes>"
      ]
     },
     "metadata": {
      "needs_background": "light"
     },
     "output_type": "display_data"
    }
   ],
   "source": [
    "plot_LR_LSVC_accs(test_accs_LR, train_accs_LR, test_accs_LSVC, train_accs_LSVC)"
   ]
  },
  {
   "cell_type": "code",
   "execution_count": 180,
   "metadata": {},
   "outputs": [
    {
     "data": {
      "image/png": "[encoded data removed]",
      "text/plain": [
       "<Figure size 720x216 with 2 Axes>"
      ]
     },
     "metadata": {
      "needs_background": "light"
     },
     "output_type": "display_data"
    }
   ],
   "source": [
    "plot_LR_LSVC_accs(test_accs_LR_n, train_accs_LR_n, test_accs_LSVC_n, train_accs_LSVC_n)"
   ]
  },
  {
   "cell_type": "code",
   "execution_count": 152,
   "metadata": {},
   "outputs": [
    {
     "data": {
      "text/plain": [
       "[array([ 0.04032159, -0.50131077]),\n",
       " array([ 0.17058673, -1.18101735]),\n",
       " array([ 0.00869975, -0.28982903]),\n",
       " array([-0.00599965,  0.05446375]),\n",
       " array([ 0.02752557, -0.17259601]),\n",
       " array([ 0.0805763 , -0.86494762]),\n",
       " array([ 0.11977995, -1.00520484]),\n",
       " array([-0.00928574, -0.36015005]),\n",
       " array([ 0.10818413, -0.87783559]),\n",
       " array([-0.00549578, -0.04970497])]"
      ]
     },
     "execution_count": 152,
     "metadata": {},
     "output_type": "execute_result"
    }
   ],
   "source": [
    "mean_coefs_LR"
   ]
  },
  {
   "cell_type": "code",
   "execution_count": 160,
   "metadata": {},
   "outputs": [
    {
     "data": {
      "text/plain": [
       "array([ 0.04032159,  0.17058673,  0.00869975, -0.00599965,  0.02752557,\n",
       "        0.0805763 ,  0.11977995, -0.00928574,  0.10818413, -0.00549578])"
      ]
     },
     "execution_count": 160,
     "metadata": {},
     "output_type": "execute_result"
    }
   ],
   "source": [
    "np.array(mean_coefs_LR)[:, 0]"
   ]
  },
  {
   "cell_type": "code",
   "execution_count": 181,
   "metadata": {},
   "outputs": [],
   "source": [
    "def plot_LR_LSVC_coefs(mean_coefs_LR, mean_coefs_LSVC):\n",
    "    fig, axes = plt.subplots(1, 2, figsize=(10, 3))\n",
    "    axes = axes.flatten()\n",
    "\n",
    "    LR_data = pd.DataFrame({\"prize_coef\": np.array(mean_coefs_LR)[:, 0],\n",
    "                            \"rnd_nr_coef\": np.array(mean_coefs_LR)[:, 1], \n",
    "                            \"subject\": SUBJECTS}) \n",
    "    sns.scatterplot(x=\"prize_coef\", y=\"rnd_nr_coef\", hue=\"subject\", data=LR_data, ax=axes[0]).set(title=\"Logistic regression coefs\")\n",
    "\n",
    "    LSVC_data = pd.DataFrame({\"prize_coef\": np.array(mean_coefs_LSVC)[:, 0],\n",
    "                            \"rnd_nr_coef\": np.array(mean_coefs_LSVC)[:, 1], \n",
    "                            \"subject\": SUBJECTS}) \n",
    "    sns.scatterplot(x=\"prize_coef\", y=\"rnd_nr_coef\", hue=\"subject\", data=LSVC_data, ax=axes[1]).set(title=\"Linear SVC coefs\")\n",
    "\n",
    "    # Show only one legend \n",
    "    axes[0].legend().remove()\n",
    "    axes[1].legend(loc='center left', bbox_to_anchor=(1, 0.5))"
   ]
  },
  {
   "cell_type": "code",
   "execution_count": 182,
   "metadata": {},
   "outputs": [
    {
     "data": {
      "image/png": "[encoded data removed]",
      "text/plain": [
       "<Figure size 720x216 with 2 Axes>"
      ]
     },
     "metadata": {
      "needs_background": "light"
     },
     "output_type": "display_data"
    }
   ],
   "source": [
    "plot_LR_LSVC_coefs(mean_coefs_LR, mean_coefs_LSVC)"
   ]
  },
  {
   "cell_type": "code",
   "execution_count": 183,
   "metadata": {},
   "outputs": [
    {
     "data": {
      "image/png": "[encoded data removed]",
      "text/plain": [
       "<Figure size 720x216 with 2 Axes>"
      ]
     },
     "metadata": {
      "needs_background": "light"
     },
     "output_type": "display_data"
    }
   ],
   "source": [
    "plot_LR_LSVC_coefs(mean_coefs_LR_n, mean_coefs_LSVC_n)"
   ]
  },
  {
   "cell_type": "code",
   "execution_count": null,
   "metadata": {},
   "outputs": [],
   "source": []
  }
 ],
 "metadata": {
  "kernelspec": {
   "display_name": "Python 3",
   "language": "python",
   "name": "python3"
  },
  "language_info": {
   "codemirror_mode": {
    "name": "ipython",
    "version": 3
   },
   "file_extension": ".py",
   "mimetype": "text/x-python",
   "name": "python",
   "nbconvert_exporter": "python",
   "pygments_lexer": "ipython3",
   "version": "3.7.0"
  }
 },
 "nbformat": 4,
 "nbformat_minor": 1
}
