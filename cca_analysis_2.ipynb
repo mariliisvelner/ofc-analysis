{
 "cells": [
  {
   "cell_type": "markdown",
   "metadata": {},
   "source": [
    "# CCA Analysis 2: conducting the experiments\n",
    "\n",
    "In this file, CCA analysis is run with all different types of datasets, namely those in all_datasets_2.p (made using make_all_datasets() in clustering.ipynb, where if use_all_els = False, then make_data() used elec_nrs_outcome if the time window type was AFTER_OUTCOME and elec_nrs_gamebtn if the time window type was GAMEPRES_BUTTONPRESS)."
   ]
  },
  {
   "cell_type": "code",
   "execution_count": 1,
   "metadata": {},
   "outputs": [],
   "source": [
    "from data_reader_writer import * \n",
    "import data_process as dp\n",
    "import itertools as it\n",
    "import pandas as pd\n",
    "import numpy as np\n",
    "from sklearn.cross_decomposition import CCA\n",
    "from collections import defaultdict\n",
    "from scipy.stats import pearsonr\n",
    "from sklearn.model_selection import cross_val_score\n",
    "import operator\n",
    "from difflib import SequenceMatcher\n",
    "import pickle"
   ]
  },
  {
   "cell_type": "markdown",
   "metadata": {},
   "source": [
    "Load in the data and copy-edit necessary functions from cca_analysis."
   ]
  },
  {
   "cell_type": "code",
   "execution_count": 2,
   "metadata": {},
   "outputs": [],
   "source": [
    "ephys_data = load_ephys_data()\n",
    "gamble_choices = load_gamble_choices_data()\n",
    "behavior_data = load_behavior_data()\n",
    "regressor_data = load_regressor_data()"
   ]
  },
  {
   "cell_type": "code",
   "execution_count": 3,
   "metadata": {},
   "outputs": [],
   "source": [
    "all_datasets = load_var(\"all_datasets_2\")"
   ]
  },
  {
   "cell_type": "markdown",
   "metadata": {},
   "source": [
    "## Experiment functions"
   ]
  },
  {
   "cell_type": "code",
   "execution_count": 6,
   "metadata": {},
   "outputs": [],
   "source": [
    "# Time-locks the given ephys trials to [-i1;i2]ms from the outcome reveal\n",
    "# NB! The ephys data has to be buttonpress_hg!\n",
    "def time_lock_outcome(ephys_data, behav_data, i1, i2):\n",
    "    result = []\n",
    "    experiment = [item for sublist in ephys_data for item in\n",
    "                  sublist]  # the measurements of the entire experiment in one list\n",
    "    # should have n_trials x 3001 elements\n",
    "\n",
    "    for index, row in behav_data.iterrows():\n",
    "        delay = round((row['reveal.time'] - row['buttonpress.time']) \n",
    "                      * 1000)  # the time between buttonpress event and outcome reveal in ms\n",
    "        outcome_moment = index * 3001 + 1000 + delay  # the buttonpress is 1s = 1000ms from the beginning of the trial\n",
    "        if outcome_moment + i2 >= len(experiment):\n",
    "            trial = experiment[outcome_moment - i1:]\n",
    "        else:\n",
    "            trial = experiment[outcome_moment - i1:outcome_moment + i2]\n",
    "        result.append(trial)\n",
    "\n",
    "    return result"
   ]
  },
  {
   "cell_type": "code",
   "execution_count": 7,
   "metadata": {},
   "outputs": [],
   "source": [
    "# Performs cross-validation with CCA, saving the train and test set correlations, weighted sums (both X and Y) and the weights\n",
    "# of X and Y for all folds\n",
    "def cross_validation(X, Y, k=5):\n",
    "    X_folds = np.array(np.array_split(X, k))\n",
    "    Y_folds = np.array(np.array_split(Y, k))\n",
    "\n",
    "    results = {}\n",
    "    test_corrs = []\n",
    "    train_corrs = []\n",
    "    x_weights = []\n",
    "    y_weights = []\n",
    "    best_test_corr = -1\n",
    "    best_train_corr = -1\n",
    "    best_X_testsums = None\n",
    "    best_Y_testsums = None\n",
    "    best_X_trainsums = None\n",
    "    best_Y_trainsums = None\n",
    "    \n",
    "    for i in range(k):\n",
    "        cca = CCA(n_components=1)\n",
    "        \n",
    "        X_train = np.array([lst for j in range(k) if i != j for lst in X_folds[j]])\n",
    "        Y_train = np.array([lst for j in range(k) if i != j for lst in Y_folds[j]])\n",
    "        \n",
    "        X_test = X_folds[i]\n",
    "        Y_test = Y_folds[i]\n",
    "        \n",
    "        cca.fit_transform(X_train, Y_train)\n",
    "        a = cca.x_weights_.flatten()\n",
    "        b = cca.y_weights_.flatten()\n",
    "        \n",
    "        aX_test = a.dot(X_test.T)\n",
    "        bY_test = b.dot(Y_test.T)\n",
    "        aX_train = a.dot(X_train.T)\n",
    "        bY_train = b.dot(Y_train.T)\n",
    "        \n",
    "        test_corr = np.corrcoef(aX_test.T, bY_test.T)[0][1]\n",
    "        train_corr = np.corrcoef(aX_train.T, bY_train.T)[0][1]\n",
    "        \n",
    "        test_corrs.append(test_corr)\n",
    "        train_corrs.append(train_corr)\n",
    "        x_weights.append(a)\n",
    "        y_weights.append(b)\n",
    "        \n",
    "        if test_corr > best_test_corr:\n",
    "            best_test_corr = test_corr\n",
    "            best_X_testsums = aX_test\n",
    "            best_Y_testsums = bY_test\n",
    "        \n",
    "        if train_corr > best_train_corr:\n",
    "            best_train_corr = train_corr\n",
    "            best_X_trainsums = aX_train\n",
    "            best_Y_trainsums = bY_train\n",
    "        \n",
    "    \n",
    "    results[\"test_corrs\"] = test_corrs\n",
    "    results[\"train_corrs\"] = train_corrs\n",
    "    results[\"x_weights\"] = x_weights\n",
    "    results[\"y_weights\"] = y_weights\n",
    "    results[\"sums_X_test\"] = best_X_testsums\n",
    "    results[\"sums_Y_test\"] = best_Y_testsums\n",
    "    results[\"sums_X_train\"] = best_X_trainsums\n",
    "    results[\"sums_Y_train\"] = best_Y_trainsums\n",
    "    return results"
   ]
  },
  {
   "cell_type": "code",
   "execution_count": 109,
   "metadata": {},
   "outputs": [],
   "source": [
    "# X_data - the ephys dataset from all_datasets_2.p, has to be a dictionary in the form \n",
    "# (subject, tw_type, trial_type, tw_per_el, boolean) -> dataset\n",
    "# trial_type (str) - the type of trials included in the experiment\n",
    "# tw_type (str) - time window type\n",
    "# regressors (list<str>) - the Y features used in CCA\n",
    "# exp_nr (int) - the number of the experiment\n",
    "# tw_per_el (int) - time windows per electrode \n",
    "# use_all_els - if True, then use all electrodes of the patient, otherwise use the best ones\n",
    "# elec_nrs (map<str, list<int>>) - mapping of subject -> list of electrodes which to use in X\n",
    "# verbose - if True, then print stuff, otherwise don't\n",
    "\n",
    "# Runs cross-validation for every subject with the given set of parameters\n",
    "def experiment2(X_data, trial_type, tw_type, regressors, exp_nr, tw_per_el=1, use_all_els=True, k=5, elec_nrs=None,\n",
    "               verbose=False):\n",
    "    results = defaultdict(dict)\n",
    "    n_regr = len(regressors)\n",
    "    results[\"Y_features\"] = regressors\n",
    "    results[\"nr\"] = exp_nr\n",
    "    has_prev_trial_features = any(map(lambda s: s.startswith(\"previous_\"), regressors))\n",
    "    \n",
    "    for s in SUBJECTS:\n",
    "        if verbose:\n",
    "            print(s)\n",
    "            \n",
    "        X = X_data[(s, tw_type, trial_type, tw_per_el, use_all_els)]\n",
    "        if elec_nrs != None:\n",
    "            start_idx = [(nr - 1) * tw_per_el for nr in elec_nrs[s]] # nr - 1 bc elec_nrs are from 1 to n\n",
    "            elec_idx = np.array([[i + j for j in range(tw_per_el)] for i in start_idx]).flatten()\n",
    "            X = X[:, elec_idx]  # select only necessary electrodes\n",
    "        \n",
    "        n_elec = N_ELEC[s]\n",
    "        # Filter out trials that were not included in the ephys data from behav data\n",
    "        s_behav = behavior_data[s][behavior_data[s]['trial.included'] == 1]\n",
    "        s_behav_reidx = s_behav.reset_index(drop=True) # so that the indices would be 0, ... , len(s_ephys) - 1\n",
    "        \n",
    "        # Get the correct trial indices for the trial type\n",
    "        indices = None  # The indices from the reindexed behav data\n",
    "        indices_orig = None  # The indices from the original behav data\n",
    "        if trial_type == LOSS:\n",
    "            indices = s_behav_reidx[s_behav_reidx['outcome'] == 'Loss'].index\n",
    "            indices_orig = s_behav[s_behav['outcome'] == 'Loss'].index\n",
    "        elif trial_type == GAMBLE:\n",
    "            indices = s_behav_reidx[s_behav_reidx['choice.class'] == 'Gamble'].index\n",
    "            indices_orig = s_behav[s_behav['choice.class'] == 'Gamble'].index\n",
    "        elif trial_type == ALL:\n",
    "            indices = s_behav_reidx.index\n",
    "            indices_orig = s_behav.index\n",
    "            \n",
    "        # If we have any previous trial features, we can't include the first trial, which doesn't have a previous trial    \n",
    "        # We check if 0 is in indices_orig because indices always begins with 0\n",
    "        if has_prev_trial_features and 0 in indices_orig:\n",
    "            assert indices[0] == 0 and indices_orig[0] == 0, \"Wrong index ordering\"\n",
    "            indices = indices[1:]\n",
    "            indices_orig = indices_orig[1:]\n",
    "            \n",
    "        n_trials = len(indices)\n",
    "        # Matrix in the shape (n_regressors x n_trials)\n",
    "        Y = np.zeros([n_trials, n_regr])\n",
    "        \n",
    "        # For every regressor, fill a column with its correct values\n",
    "        for i in range(n_regr):\n",
    "            if regressors[i] == \"prize\":\n",
    "                # We must use indices_orig because the length of gamble_choices is 200 -- it contains all trial information\n",
    "                Y[:, i] = gamble_choices.iloc[indices_orig]['Risky.Bet.Amount']\n",
    "            elif regressors[i] == \"previous_prize\":\n",
    "                # Use indices_org - 1 bc we want the previous trials' indices\n",
    "                Y[:, i] = gamble_choices.iloc[indices_orig - 1]['Risky.Bet.Amount']\n",
    "            else:\n",
    "                # We must use indices because the length of regressor data is the length of ephys data -- only included trials\n",
    "                Y[:, i] = regressor_data[s][regressors[i]].flatten()[indices]\n",
    "                \n",
    "        if has_prev_trial_features and X.shape[0] == Y.shape[0] + 1:\n",
    "            X = X[1:]\n",
    "    \n",
    "        cca = CCA(n_components=1)\n",
    "        cca.fit_transform(X, Y)\n",
    "        a = cca.x_weights_.flatten()\n",
    "        b = cca.y_weights_.flatten()\n",
    "\n",
    "        aX = a.dot(X.T)    \n",
    "        bY = b.dot(Y.T)\n",
    "        if verbose:\n",
    "            print(\"a:\", a)\n",
    "            print(\"b:\", b)\n",
    "            print(\"Corr for the whole dataset:\", np.corrcoef(aX.T, bY.T)[0][1])\n",
    "            \n",
    "        results[s][\"a\"] = a\n",
    "        results[s][\"b\"] = b\n",
    "        results[s][\"coef\"] = np.corrcoef(aX.T, bY.T)[0][1]\n",
    "        \n",
    "        results[s][\"cross_val\"] = cross_validation(X, Y, k)\n",
    "        if verbose:\n",
    "            print(\"Train corrs:\", results[s][\"cross_val\"][\"train_corrs\"])\n",
    "            print(\"Test corrs:\", results[s][\"cross_val\"][\"test_corrs\"])\n",
    "    \n",
    "    return results"
   ]
  },
  {
   "cell_type": "code",
   "execution_count": 84,
   "metadata": {},
   "outputs": [],
   "source": [
    "# trial_type (str) - the type of trials included in the experiment\n",
    "# tw_type (str) - time window type\n",
    "# regressors (list<str>) - the Y features used in CCA\n",
    "# exp_nr (int) - the number of the experiment\n",
    "\n",
    "# Runs the same experiment, but using one electrode at a time, saving the results for all electrodes separately\n",
    "def experiment_electrodes(X_data, trial_type, tw_type, regressors, exp_nr, use_all_els=True, k=5, verbose=False):\n",
    "    results = defaultdict(lambda: defaultdict(dict))\n",
    "    n_regr = len(regressors)\n",
    "    results[\"Y_features\"] = regressors\n",
    "    results[\"nr\"] = exp_nr\n",
    "    has_prev_trial_features = any(map(lambda s: s.startswith(\"previous_\"), regressors))\n",
    "    \n",
    "    for s in SUBJECTS:\n",
    "        if verbose:\n",
    "            print(s)\n",
    "            \n",
    "        X = X_data[(s, tw_type, trial_type, 1, use_all_els)]\n",
    "            \n",
    "        n_elec = N_ELEC[s]\n",
    "        # Filter out trials that were not included in the ephys data from behav data\n",
    "        s_behav = behavior_data[s][behavior_data[s]['trial.included'] == 1]\n",
    "        s_behav_reidx = s_behav.reset_index(drop=True) # so that the indices would be 0, ... , len(s_ephys) - 1\n",
    "        \n",
    "        # Pick the correct ephys data\n",
    "        s_ephys = None\n",
    "        if tw_type == AFTER_OUTCOME:\n",
    "            s_ephys = ephys_data[s]['buttonpress_events_hg']\n",
    "        elif tw_type == GAMEPRES_BUTTONPRESS:\n",
    "            s_ephys = ephys_data[s]['game_events_hg']\n",
    "        \n",
    "        # Get the correct trial indices for the trial type\n",
    "        indices = None  # The indices from the reindexed behav data\n",
    "        indices_orig = None  # The indices from the original behav data\n",
    "        if trial_type == LOSS:\n",
    "            indices = s_behav_reidx[s_behav_reidx['outcome'] == 'Loss'].index\n",
    "            indices_orig = s_behav[s_behav['outcome'] == 'Loss'].index\n",
    "        elif trial_type == GAMBLE:\n",
    "            indices = s_behav_reidx[s_behav_reidx['choice.class'] == 'Gamble'].index\n",
    "            indices_orig = s_behav[s_behav['choice.class'] == 'Gamble'].index\n",
    "        elif trial_type == ALL:\n",
    "            indices = s_behav_reidx.index\n",
    "            indices_orig = s_behav.index\n",
    "            \n",
    "        # If we have any previous trial features, we can't include the first trial, which doesn't have a previous trial    \n",
    "        # We check if 0 is in indices_orig because indices always begins with 0\n",
    "        if has_prev_trial_features and 0 in indices_orig:\n",
    "            assert indices[0] == 0 and indices_orig[0] == 0, \"Wrong index ordering\"\n",
    "            indices = indices[1:]\n",
    "            indices_orig = indices_orig[1:]\n",
    "\n",
    "        n_trials = len(indices)\n",
    "        # Matrix in the shape (n_regressors x n_trials)\n",
    "        Y = np.zeros([n_trials, n_regr])\n",
    "        \n",
    "        # For every regressor, fill a column with its correct values\n",
    "        for i in range(n_regr):\n",
    "            if regressors[i] == \"prize\":\n",
    "                # We must use indices_orig because the length of gamble_choices is 200 -- it contains all trial information\n",
    "                Y[:, i] = gamble_choices.iloc[indices_orig]['Risky.Bet.Amount']\n",
    "            elif regressors[i] == \"previous_prize\":\n",
    "                # Use indices_org - 1 bc we want the previous trials' indices\n",
    "                Y[:, i] = gamble_choices.iloc[indices_orig - 1]['Risky.Bet.Amount']\n",
    "            else:\n",
    "                # We must use indices because the length of regressor data is the length of ephys data -- only included trials\n",
    "                Y[:, i] = regressor_data[s][regressors[i]].flatten()[indices]\n",
    "            \n",
    "\n",
    "        electrodes = list(range(1, n_elec + 1))\n",
    "        for el in electrodes:\n",
    "            X_el = X[:, el - 1].reshape(-1, 1)\n",
    "            \n",
    "            if has_prev_trial_features and len(X_el) == len(Y) + 1:\n",
    "                X_el = X_el[1:]\n",
    "            \n",
    "            cca = CCA(n_components=1)\n",
    "            cca.fit_transform(X_el, Y)\n",
    "            a = cca.x_weights_.flatten()\n",
    "            b = cca.y_weights_.flatten()\n",
    "            \n",
    "            aX = a.dot(X_el.T)    \n",
    "            bY = b.dot(Y.T)\n",
    "\n",
    "            if verbose:\n",
    "                print(\"Corr for the whole dataset:\", np.corrcoef(aX.T, bY.T)[0][1]) \n",
    "\n",
    "            results[s][el][\"a\"] = a\n",
    "            results[s][el][\"b\"] = b\n",
    "            results[s][el][\"coef\"] = np.corrcoef(aX.T, bY.T)[0][1]\n",
    "            results[s][el][\"cross_val\"] = cross_validation(X_el, Y, k)\n",
    "            \n",
    "    return results"
   ]
  },
  {
   "cell_type": "code",
   "execution_count": 10,
   "metadata": {},
   "outputs": [],
   "source": [
    "# Transform a 'defaultdict' type dictionary to a regular dictionary\n",
    "def default_to_regular(d):\n",
    "    if isinstance(d, defaultdict):\n",
    "        d = {k: default_to_regular(v) for k, v in d.items()}\n",
    "    return d"
   ]
  },
  {
   "cell_type": "markdown",
   "metadata": {},
   "source": [
    "## Best electrodes vol 1"
   ]
  },
  {
   "cell_type": "code",
   "execution_count": 5,
   "metadata": {},
   "outputs": [],
   "source": [
    "# The necessary data was generated in cca_analysis (\"One electrode, one regressor\"), load it in\n",
    "# Contains a list of four dictionaries\n",
    "all_results_el_reg = load_var(\"all_results_el_reg_1\")"
   ]
  },
  {
   "cell_type": "code",
   "execution_count": 11,
   "metadata": {},
   "outputs": [],
   "source": [
    "# Generates a map where for every subject and every regressor there is the \"best\" electrode: the electrode which had the highest\n",
    "# correlation with the regressor on the whole dataset where the time window is 1.5s after outcome reveal\n",
    "def get_best_elec_outcome_1(results_el_current_reg, results_el_past_reg):\n",
    "    best_elec_outcome = defaultdict(lambda: defaultdict(int))\n",
    "    \n",
    "    for s in SUBJECTS:\n",
    "        for regr in results_el_current_reg[s]:\n",
    "            corr_list = sorted(results_el_current_reg[s][regr], reverse=True)\n",
    "            best_elec_outcome[s][regr] = corr_list[0][1]\n",
    "    \n",
    "        for regr in results_el_past_reg[s]:\n",
    "            corr_list = sorted(results_el_past_reg[s][regr], reverse=True)\n",
    "            best_elec_outcome[s][regr] = corr_list[0][1]\n",
    "    \n",
    "    return best_elec_outcome"
   ]
  },
  {
   "cell_type": "code",
   "execution_count": 12,
   "metadata": {},
   "outputs": [],
   "source": [
    "# Generates a map where for every subject and every regressor there is the \"best\" electrode: the electrode which had the highest\n",
    "# correlation with the regressor on the whole dataset where the time window is between game presentation and button press\n",
    "def get_best_elec_gamebtn_1(results_el_current_reg, results_el_past_reg):\n",
    "    best_elec_gamebtn = defaultdict(lambda: defaultdict(int))\n",
    "\n",
    "    for s in SUBJECTS:\n",
    "        for regr in results_el_current_reg[s]:\n",
    "            corr_list = sorted(results_el_current_reg[s][regr], reverse=True)\n",
    "            best_elec_gamebtn[s][regr] = corr_list[0][1]\n",
    "    \n",
    "    for regr in results_el_past_reg[s]:\n",
    "        corr_list = sorted(results_el_past_reg[s][regr], reverse=True)\n",
    "        best_elec_gamebtn[s][regr] = corr_list[0][1]\n",
    "        \n",
    "    return best_elec_gamebtn"
   ]
  },
  {
   "cell_type": "code",
   "execution_count": 16,
   "metadata": {},
   "outputs": [],
   "source": [
    "# Gets the best electrodes VERSION 1: for every subject: get the one best electrode for every single regressor\n",
    "# Use the best_elec_outcome_1 or best_elec_gamebtn_1 depending on the time window type\n",
    "# Therefore, if k regressors then max k electrodes (can be less than k because some electrode might be the best for several\n",
    "# regressors)\n",
    "def get_best_electrodes_1(regressors, tw_type):\n",
    "    elec_nrs = defaultdict(set)\n",
    "    \n",
    "    if tw_type == AFTER_OUTCOME:\n",
    "        for s in SUBJECTS:\n",
    "            for regr in regressors:\n",
    "                elec_nrs[s].add(best_elec_outcome_1[s][regr])\n",
    "    \n",
    "    elif tw_type == GAMEPRES_BUTTONPRESS:\n",
    "        for s in SUBJECTS:\n",
    "            for regr in regressors:\n",
    "                elec_nrs[s].add(best_elec_gamebtn_1[s][regr])\n",
    "    \n",
    "    return elec_nrs"
   ]
  },
  {
   "cell_type": "code",
   "execution_count": 15,
   "metadata": {},
   "outputs": [],
   "source": [
    "best_elec_outcome_1 = get_best_elec_outcome_1(all_results_el_reg[0], all_results_el_reg[2])\n",
    "best_elec_gamebtn_1 = get_best_elec_gamebtn_1(all_results_el_reg[1], all_results_el_reg[3])"
   ]
  },
  {
   "cell_type": "code",
   "execution_count": 97,
   "metadata": {},
   "outputs": [
    {
     "data": {
      "text/plain": [
       "dict_keys(['exputil', 'gamble_ind', 'loss_ind', 'regret', 'risk', 'rpe', 'win_ind', 'winprob', 'previous_exputil', 'previous_gamble_ind', 'previous_loss_ind', 'previous_regret', 'previous_risk', 'previous_rpe', 'previous_win_ind', 'previous_winprob'])"
      ]
     },
     "execution_count": 97,
     "metadata": {},
     "output_type": "execute_result"
    }
   ],
   "source": [
    "best_elec_outcome_1['s1'].keys()"
   ]
  },
  {
   "cell_type": "markdown",
   "metadata": {},
   "source": [
    "## Best electrodes vol 2"
   ]
  },
  {
   "cell_type": "code",
   "execution_count": 100,
   "metadata": {},
   "outputs": [],
   "source": [
    "# Generates a map where for every subject and every set of regressors there is a list of electrodes that are sorted by their\n",
    "# correlation with the set of regressors over the whole dataset (time window being AFTER_OUTCOME)\n",
    "def get_best_elec_outcome_2(result_list):\n",
    "    best_elec_outcome_2 = defaultdict(lambda: defaultdict(list))\n",
    "\n",
    "    for res in result_list: \n",
    "        y_features = tuple(res[\"Y_features\"])  # using this as dict key\n",
    "        for s in SUBJECTS:\n",
    "            coefs = []\n",
    "            for el in res[s].keys():\n",
    "                corr = res[s][el][\"coef\"]\n",
    "                coefs.append((corr, el))\n",
    "            coefs_sorted = sorted(coefs, reverse=True)  # sort by corrs \n",
    "            elecs_sorted = list(map(lambda coef_el: coef_el[1], coefs_sorted))  # take electrodes from the tuples\n",
    "            best_elec_outcome_2[s][y_features] = elecs_sorted\n",
    "    \n",
    "    return default_to_regular(best_elec_outcome_2)"
   ]
  },
  {
   "cell_type": "code",
   "execution_count": 101,
   "metadata": {},
   "outputs": [],
   "source": [
    "# Generates a map where for every subject and every set of regressors there is a list of electrodes that are sorted by their\n",
    "# correlation with the set of regressors over the whole dataset (time window being GAMEPRES_BUTTONPRESS)\n",
    "def get_best_elec_gamebtn_2(result_list): \n",
    "    best_elec_gamebtn_2 = defaultdict(lambda: defaultdict(list))\n",
    "\n",
    "    for res in result_list: \n",
    "        y_features = tuple(res[\"Y_features\"])  # using this as dict key\n",
    "        for s in SUBJECTS:\n",
    "            coefs = []\n",
    "            for el in res[s].keys():\n",
    "                corr = res[s][el][\"coef\"]\n",
    "                coefs.append((corr, el))\n",
    "            coefs_sorted = sorted(coefs, reverse=True)  # sort by corrs \n",
    "            elecs_sorted = list(map(lambda coef_el: coef_el[1], coefs_sorted))  # take electrodes from the tuples\n",
    "            best_elec_gamebtn_2[s][y_features] = elecs_sorted\n",
    "            \n",
    "    return default_to_regular(best_elec_gamebtn_2)"
   ]
  },
  {
   "cell_type": "code",
   "execution_count": 50,
   "metadata": {},
   "outputs": [],
   "source": [
    "# n_elec -- how many best electrodes are selected \n",
    "# n_elec must be < 6\n",
    "# p_elec -- percent of electrodes; is used if not None\n",
    "\n",
    "# Gets the best OUTCOME electrodes VERSION 2: for every subject: get the one best electrode for every single regressor\n",
    "# Therefore, if k regressors then max k electrodes (can be less than k because some electrode might be the best for several\n",
    "# regressors)\n",
    "def get_best_electrodes_2(regressors, tw_type, n_elec=1, p_elec=None):\n",
    "    elec_nrs = defaultdict(list)\n",
    "    \n",
    "    if tw_type == AFTER_OUTCOME:\n",
    "        for s in SUBJECTS:\n",
    "            for key in best_elec_outcome_2[s].keys():\n",
    "                if set(regressors) == set(key):\n",
    "                    if p_elec is not None:\n",
    "                        n_elec = int(round(N_ELEC[s] * p_elec))  # the int is necessary for numpy floats\n",
    "                    \n",
    "                    elec_nrs[s] = best_elec_outcome_2[s][key][:n_elec]\n",
    "    \n",
    "    elif tw_type == GAMEPRES_BUTTONPRESS:\n",
    "        for s in SUBJECTS:\n",
    "            for key in best_elec_gamebtn_2[s].keys():\n",
    "                if set(regressors) == set(key):\n",
    "                    if p_elec is not None:\n",
    "                        n_elec = int(round(N_ELEC[s] * p_elec))\n",
    "                        \n",
    "                    elec_nrs[s] = best_elec_gamebtn_2[s][key][:n_elec]\n",
    "    \n",
    "    return elec_nrs"
   ]
  },
  {
   "cell_type": "markdown",
   "metadata": {},
   "source": [
    "### Sets of regressors\n",
    "\n",
    "To use get_best_electrodes_2, we need to have results for every combination of regressors. We will try with every combination of current trial outcome regressors in the AFTER_OUTCOME time window, every combination of previous trial outcome regressors in the AFTER_OUTCOME time window, every combination of current trial choice regressors in the GAMEPRES_BUTTONPRESS time window, and every combination of previous trial choice regressors in the GAMEPRES_BUTTONPRESS time window."
   ]
  },
  {
   "cell_type": "code",
   "execution_count": 18,
   "metadata": {},
   "outputs": [],
   "source": [
    "# Finds all subsets of length n in set s\n",
    "def findsubsets(s, n): \n",
    "    return [list(i) for i in it.combinations(s, n)] "
   ]
  },
  {
   "cell_type": "code",
   "execution_count": 19,
   "metadata": {},
   "outputs": [],
   "source": [
    "OUTCOME_REGRESSORS = [\"loss_ind\", \"regret\", \"rpe\", \"win_ind\"]\n",
    "GAMEBTN_REGRESSORS = [\"exputil\", \"gamble_ind\", \"risk\", \"winprob\"]"
   ]
  },
  {
   "cell_type": "code",
   "execution_count": 74,
   "metadata": {},
   "outputs": [],
   "source": [
    "PREV_OUTCOME_REGRESSORS = [\"previous_loss_ind\", \"previous_regret\", \"previous_rpe\", \"previous_win_ind\"]\n",
    "PREV_GAMEBTN_REGRESSORS = [\"previous_exputil\", \"previous_gamble_ind\", \"previous_risk\", \"previous_winprob\"]"
   ]
  },
  {
   "cell_type": "code",
   "execution_count": 20,
   "metadata": {},
   "outputs": [
    {
     "data": {
      "text/plain": [
       "[['loss_ind', 'regret', 'rpe'],\n",
       " ['loss_ind', 'regret', 'win_ind'],\n",
       " ['loss_ind', 'rpe', 'win_ind'],\n",
       " ['regret', 'rpe', 'win_ind']]"
      ]
     },
     "execution_count": 20,
     "metadata": {},
     "output_type": "execute_result"
    }
   ],
   "source": [
    "findsubsets(OUTCOME_REGRESSORS, 3)"
   ]
  },
  {
   "cell_type": "code",
   "execution_count": 21,
   "metadata": {},
   "outputs": [],
   "source": [
    "outcome_subsets = [OUTCOME_REGRESSORS] + findsubsets(OUTCOME_REGRESSORS, 2) + findsubsets(OUTCOME_REGRESSORS, 3)"
   ]
  },
  {
   "cell_type": "code",
   "execution_count": 22,
   "metadata": {},
   "outputs": [],
   "source": [
    "gamebtn_subsets = [GAMEBTN_REGRESSORS] + findsubsets(GAMEBTN_REGRESSORS, 2) + findsubsets(GAMEBTN_REGRESSORS, 3)"
   ]
  },
  {
   "cell_type": "code",
   "execution_count": 75,
   "metadata": {},
   "outputs": [],
   "source": [
    "outcome_prev_subsets = [PREV_OUTCOME_REGRESSORS] + findsubsets(PREV_OUTCOME_REGRESSORS, 2) + findsubsets(\n",
    "    PREV_OUTCOME_REGRESSORS, 3)"
   ]
  },
  {
   "cell_type": "code",
   "execution_count": 76,
   "metadata": {},
   "outputs": [],
   "source": [
    "gamebtn_prev_subsets = [PREV_GAMEBTN_REGRESSORS] + findsubsets(PREV_GAMEBTN_REGRESSORS, 2) + findsubsets(\n",
    "    PREV_GAMEBTN_REGRESSORS, 3)"
   ]
  },
  {
   "cell_type": "code",
   "execution_count": 77,
   "metadata": {},
   "outputs": [
    {
     "name": "stdout",
     "output_type": "stream",
     "text": [
      "480\n",
      "11\n",
      "11\n",
      "11\n",
      "11\n"
     ]
    }
   ],
   "source": [
    "print(len(all_datasets))\n",
    "print(len(outcome_subsets))\n",
    "print(len(gamebtn_subsets))\n",
    "print(len(outcome_prev_subsets))\n",
    "print(len(gamebtn_prev_subsets))"
   ]
  },
  {
   "cell_type": "markdown",
   "metadata": {},
   "source": [
    "### 1. Run experiment_electrodes() with all combos of current trial regressors"
   ]
  },
  {
   "cell_type": "code",
   "execution_count": 35,
   "metadata": {},
   "outputs": [
    {
     "name": "stdout",
     "output_type": "stream",
     "text": [
      "['loss_ind', 'regret', 'rpe', 'win_ind']\n",
      "['loss_ind', 'regret']\n",
      "['loss_ind', 'rpe']\n",
      "['loss_ind', 'win_ind']\n",
      "['regret', 'rpe']\n",
      "['regret', 'win_ind']\n",
      "['rpe', 'win_ind']\n",
      "['loss_ind', 'regret', 'rpe']\n",
      "['loss_ind', 'regret', 'win_ind']\n",
      "['loss_ind', 'rpe', 'win_ind']\n",
      "['regret', 'rpe', 'win_ind']\n",
      "['exputil', 'gamble_ind', 'risk', 'winprob']\n",
      "['exputil', 'gamble_ind']\n",
      "['exputil', 'risk']\n",
      "['exputil', 'winprob']\n",
      "['gamble_ind', 'risk']\n",
      "['gamble_ind', 'winprob']\n",
      "['risk', 'winprob']\n",
      "['exputil', 'gamble_ind', 'risk']\n",
      "['exputil', 'gamble_ind', 'winprob']\n",
      "['exputil', 'risk', 'winprob']\n",
      "['gamble_ind', 'risk', 'winprob']\n"
     ]
    }
   ],
   "source": [
    "all_experiment_electrodes_ao = []\n",
    "all_experiment_electrodes_gb = []\n",
    "\n",
    "exp_nr = 1\n",
    "for subset in outcome_subsets:\n",
    "    print(subset)\n",
    "    res = experiment_electrodes(X_data=all_datasets, trial_type=ALL, tw_type=AFTER_OUTCOME, regressors=subset, exp_nr=exp_nr, \n",
    "                      verbose=False)\n",
    "    exp_nr += 1\n",
    "    all_experiment_electrodes_ao.append(res)\n",
    "\n",
    "exp_nr = 1\n",
    "for subset in gamebtn_subsets:\n",
    "    print(subset)\n",
    "    res = experiment_electrodes(X_data=all_datasets, trial_type=ALL, tw_type=GAMEPRES_BUTTONPRESS, regressors=subset, \n",
    "                                exp_nr=exp_nr, verbose=False)\n",
    "    exp_nr += 1\n",
    "    all_experiment_electrodes_gb.append(res)"
   ]
  },
  {
   "cell_type": "code",
   "execution_count": 39,
   "metadata": {},
   "outputs": [],
   "source": [
    "# save_var(list(map(lambda d: default_to_regular(d), all_experiment_electrodes_ao)), \"all_experiment_electrodes_ao\")\n",
    "# save_var(list(map(lambda d: default_to_regular(d), all_experiment_electrodes_gb)), \"all_experiment_electrodes_gb\")"
   ]
  },
  {
   "cell_type": "code",
   "execution_count": 27,
   "metadata": {},
   "outputs": [],
   "source": [
    "all_experiment_electrodes_ao = load_var(\"all_experiment_electrodes_ao\")\n",
    "all_experiment_electrodes_gb = load_var(\"all_experiment_electrodes_gb\")"
   ]
  },
  {
   "cell_type": "markdown",
   "metadata": {},
   "source": [
    "### 2. Run experiment_electrodes() with all combos of previous trial regressors"
   ]
  },
  {
   "cell_type": "code",
   "execution_count": 85,
   "metadata": {
    "scrolled": true
   },
   "outputs": [
    {
     "name": "stdout",
     "output_type": "stream",
     "text": [
      "['previous_loss_ind', 'previous_regret', 'previous_rpe', 'previous_win_ind']\n",
      "['previous_loss_ind', 'previous_regret']\n",
      "['previous_loss_ind', 'previous_rpe']\n",
      "['previous_loss_ind', 'previous_win_ind']\n",
      "['previous_regret', 'previous_rpe']\n",
      "['previous_regret', 'previous_win_ind']\n",
      "['previous_rpe', 'previous_win_ind']\n",
      "['previous_loss_ind', 'previous_regret', 'previous_rpe']\n",
      "['previous_loss_ind', 'previous_regret', 'previous_win_ind']\n",
      "['previous_loss_ind', 'previous_rpe', 'previous_win_ind']\n",
      "['previous_regret', 'previous_rpe', 'previous_win_ind']\n",
      "['previous_exputil', 'previous_gamble_ind', 'previous_risk', 'previous_winprob']\n",
      "['previous_exputil', 'previous_gamble_ind']\n",
      "['previous_exputil', 'previous_risk']\n",
      "['previous_exputil', 'previous_winprob']\n",
      "['previous_gamble_ind', 'previous_risk']\n",
      "['previous_gamble_ind', 'previous_winprob']\n",
      "['previous_risk', 'previous_winprob']\n",
      "['previous_exputil', 'previous_gamble_ind', 'previous_risk']\n",
      "['previous_exputil', 'previous_gamble_ind', 'previous_winprob']\n",
      "['previous_exputil', 'previous_risk', 'previous_winprob']\n",
      "['previous_gamble_ind', 'previous_risk', 'previous_winprob']\n"
     ]
    }
   ],
   "source": [
    "all_experiment_electrodes_ao_prev = []\n",
    "all_experiment_electrodes_gb_prev = []\n",
    "\n",
    "exp_nr = 1\n",
    "for subset in outcome_prev_subsets:\n",
    "    print(subset)\n",
    "    res = experiment_electrodes(X_data=all_datasets, trial_type=ALL, tw_type=AFTER_OUTCOME, regressors=subset, exp_nr=exp_nr, \n",
    "                      verbose=False)\n",
    "    exp_nr += 1\n",
    "    all_experiment_electrodes_ao_prev.append(res)\n",
    "\n",
    "exp_nr = 1\n",
    "for subset in gamebtn_prev_subsets:\n",
    "    print(subset)\n",
    "    res = experiment_electrodes(X_data=all_datasets, trial_type=ALL, tw_type=GAMEPRES_BUTTONPRESS, regressors=subset, \n",
    "                                exp_nr=exp_nr, verbose=False)\n",
    "    exp_nr += 1\n",
    "    all_experiment_electrodes_gb_prev.append(res)"
   ]
  },
  {
   "cell_type": "code",
   "execution_count": 86,
   "metadata": {},
   "outputs": [],
   "source": [
    "# save_var(list(map(lambda d: default_to_regular(d), all_experiment_electrodes_ao_prev)), \"all_experiment_electrodes_ao_prev\")\n",
    "# save_var(list(map(lambda d: default_to_regular(d), all_experiment_electrodes_gb_prev)), \"all_experiment_electrodes_gb_prev\")"
   ]
  },
  {
   "cell_type": "code",
   "execution_count": 87,
   "metadata": {},
   "outputs": [],
   "source": [
    "all_experiment_electrodes_ao_prev = load_var(\"all_experiment_electrodes_ao_prev\")\n",
    "all_experiment_electrodes_gb_prev = load_var(\"all_experiment_electrodes_gb_prev\")"
   ]
  },
  {
   "cell_type": "markdown",
   "metadata": {},
   "source": [
    "### 3. Generate maps"
   ]
  },
  {
   "cell_type": "code",
   "execution_count": 28,
   "metadata": {},
   "outputs": [],
   "source": [
    "best_elec_outcome_2 = get_best_elec_outcome_2(all_experiment_electrodes_ao)\n",
    "best_elec_gamebtn_2 = get_best_elec_gamebtn_2(all_experiment_electrodes_gb)"
   ]
  },
  {
   "cell_type": "code",
   "execution_count": 102,
   "metadata": {},
   "outputs": [],
   "source": [
    "best_elec_outcome_prev_2 = get_best_elec_outcome_2(all_experiment_electrodes_ao_prev)\n",
    "best_elec_gamebtn_prev_2 = get_best_elec_gamebtn_2(all_experiment_electrodes_gb_prev)"
   ]
  },
  {
   "cell_type": "code",
   "execution_count": 107,
   "metadata": {},
   "outputs": [],
   "source": [
    "# Need to combine these because get_best_electrodes_2 uses best_elec_outcome_2\n",
    "best_elec_outcome_2 = {**best_elec_outcome_2, **best_elec_outcome_prev_2}\n",
    "best_elec_gamebtn_2 = {**best_elec_gamebtn_2, **best_elec_gamebtn_prev_2}"
   ]
  },
  {
   "cell_type": "markdown",
   "metadata": {},
   "source": [
    "## Experiment runs"
   ]
  },
  {
   "cell_type": "markdown",
   "metadata": {},
   "source": [
    "### 1. All combinations with get_best_electrodes_1"
   ]
  },
  {
   "cell_type": "code",
   "execution_count": 113,
   "metadata": {},
   "outputs": [],
   "source": [
    "# Runs experiment2 with all datasets using ALL trials, using get_best_electrodes_1 for elec_nrs\n",
    "def all_combinations_best_elecs_1(datasets, outcome_subsets=outcome_subsets, gamebtn_subsets=gamebtn_subsets):\n",
    "    results_ao = defaultdict(lambda: defaultdict(dict))\n",
    "    results_gb = defaultdict(lambda: defaultdict(dict))\n",
    "    trial_type = ALL\n",
    "    use_all_els = True\n",
    "    exp_nr = 1\n",
    "    \n",
    "    # 1.\n",
    "    tw_type = AFTER_OUTCOME\n",
    "    print(tw_type)\n",
    "    for subset in outcome_subsets:\n",
    "        print(subset)\n",
    "        for tw_per_el in [1, 2, 3]:\n",
    "            results_ao[tuple(subset)][(tw_per_el, \"all\")] = experiment2(X_data=datasets, trial_type=trial_type, tw_type=tw_type, \n",
    "                                                        regressors=subset, exp_nr=exp_nr, tw_per_el=tw_per_el, \n",
    "                                                        use_all_els=use_all_els, k=5, elec_nrs=None, verbose=False)\n",
    "            \n",
    "            results_ao[tuple(subset)][(tw_per_el, \"best\")] = experiment2(X_data=datasets, trial_type=trial_type, tw_type=tw_type, \n",
    "                                                        regressors=subset, exp_nr=exp_nr, tw_per_el=tw_per_el, \n",
    "                                                        use_all_els=use_all_els, k=5, elec_nrs=get_best_electrodes_1(\n",
    "                                                            subset, tw_type), verbose=False)\n",
    "            exp_nr += 1\n",
    "\n",
    "    exp_nr = 1\n",
    "    # 2.\n",
    "    tw_type = GAMEPRES_BUTTONPRESS\n",
    "    print(tw_type)\n",
    "    for subset in gamebtn_subsets:\n",
    "        print(subset)\n",
    "        for tw_per_el in [1, 2, 3]:\n",
    "            results_gb[tuple(subset)][(tw_per_el, \"all\")] = experiment2(X_data=datasets, trial_type=trial_type, tw_type=tw_type, \n",
    "                                                        regressors=subset, exp_nr=exp_nr, tw_per_el=tw_per_el, \n",
    "                                                        use_all_els=use_all_els, k=5, elec_nrs=None, verbose=False)\n",
    "            \n",
    "            results_gb[tuple(subset)][(tw_per_el, \"best\")] = experiment2(X_data=datasets, trial_type=trial_type, tw_type=tw_type, \n",
    "                                                        regressors=subset, exp_nr=exp_nr, tw_per_el=tw_per_el, \n",
    "                                                        use_all_els=use_all_els, k=5, elec_nrs=get_best_electrodes_1(\n",
    "                                                            subset, tw_type), verbose=False)\n",
    "            exp_nr += 1\n",
    "\n",
    "    return results_ao, results_gb"
   ]
  },
  {
   "cell_type": "markdown",
   "metadata": {},
   "source": [
    "**Current trial regressors:**"
   ]
  },
  {
   "cell_type": "code",
   "execution_count": 27,
   "metadata": {},
   "outputs": [
    {
     "name": "stdout",
     "output_type": "stream",
     "text": [
      "1.5s after outcome reveal\n",
      "['loss_ind', 'regret', 'rpe', 'win_ind']\n",
      "['loss_ind', 'regret']\n",
      "['loss_ind', 'rpe']\n",
      "['loss_ind', 'win_ind']\n",
      "['regret', 'rpe']\n",
      "['regret', 'win_ind']\n",
      "['rpe', 'win_ind']\n",
      "['loss_ind', 'regret', 'rpe']\n",
      "['loss_ind', 'regret', 'win_ind']\n",
      "['loss_ind', 'rpe', 'win_ind']\n"
     ]
    },
    {
     "name": "stderr",
     "output_type": "stream",
     "text": [
      "C:\\Users\\MariLiis\\Anaconda3\\lib\\site-packages\\sklearn\\cross_decomposition\\pls_.py:79: ConvergenceWarning: Maximum number of iterations reached\n",
      "  ConvergenceWarning)\n"
     ]
    },
    {
     "name": "stdout",
     "output_type": "stream",
     "text": [
      "['regret', 'rpe', 'win_ind']\n",
      "between game presentation and buttonpress\n",
      "['exputil', 'gamble_ind', 'risk', 'winprob']\n",
      "['exputil', 'gamble_ind']\n",
      "['exputil', 'risk']\n",
      "['exputil', 'winprob']\n",
      "['gamble_ind', 'risk']\n",
      "['gamble_ind', 'winprob']\n",
      "['risk', 'winprob']\n",
      "['exputil', 'gamble_ind', 'risk']\n",
      "['exputil', 'gamble_ind', 'winprob']\n",
      "['exputil', 'risk', 'winprob']\n"
     ]
    },
    {
     "name": "stderr",
     "output_type": "stream",
     "text": [
      "C:\\Users\\MariLiis\\Anaconda3\\lib\\site-packages\\sklearn\\cross_decomposition\\pls_.py:79: ConvergenceWarning: Maximum number of iterations reached\n",
      "  ConvergenceWarning)\n"
     ]
    },
    {
     "name": "stdout",
     "output_type": "stream",
     "text": [
      "['gamble_ind', 'risk', 'winprob']\n"
     ]
    }
   ],
   "source": [
    "# results_ao, results_gb = all_combinations_best_elecs_1(all_datasets)"
   ]
  },
  {
   "cell_type": "code",
   "execution_count": 37,
   "metadata": {},
   "outputs": [],
   "source": [
    "# save_var((default_to_regular(results_ao), default_to_regular(results_gb)), \"all_combinations_best_elecs_1\")"
   ]
  },
  {
   "cell_type": "code",
   "execution_count": 26,
   "metadata": {},
   "outputs": [],
   "source": [
    "results_ao, results_gb = load_var(\"all_combinations_best_elecs_1\")"
   ]
  },
  {
   "cell_type": "code",
   "execution_count": 72,
   "metadata": {},
   "outputs": [
    {
     "data": {
      "text/plain": [
       "dict_keys([(1, 'all'), (1, 'best'), (2, 'all'), (2, 'best'), (3, 'all'), (3, 'best')])"
      ]
     },
     "execution_count": 72,
     "metadata": {},
     "output_type": "execute_result"
    }
   ],
   "source": [
    "results_ao[('loss_ind', 'rpe', 'win_ind')].keys()"
   ]
  },
  {
   "cell_type": "code",
   "execution_count": 73,
   "metadata": {},
   "outputs": [
    {
     "data": {
      "text/plain": [
       "dict_keys(['Y_features', 'nr', 's1', 's2', 's3', 's4', 's5', 's6', 's7', 's8', 's9', 's10'])"
      ]
     },
     "execution_count": 73,
     "metadata": {},
     "output_type": "execute_result"
    }
   ],
   "source": [
    "results_ao[('loss_ind', 'rpe', 'win_ind')][(1, 'all')].keys()"
   ]
  },
  {
   "cell_type": "markdown",
   "metadata": {},
   "source": [
    "**Previous trial regressors:**"
   ]
  },
  {
   "cell_type": "code",
   "execution_count": 114,
   "metadata": {
    "scrolled": true
   },
   "outputs": [
    {
     "name": "stdout",
     "output_type": "stream",
     "text": [
      "1.5s after outcome reveal\n",
      "['previous_loss_ind', 'previous_regret', 'previous_rpe', 'previous_win_ind']\n",
      "['previous_loss_ind', 'previous_regret']\n",
      "['previous_loss_ind', 'previous_rpe']\n",
      "['previous_loss_ind', 'previous_win_ind']\n",
      "['previous_regret', 'previous_rpe']\n",
      "['previous_regret', 'previous_win_ind']\n",
      "['previous_rpe', 'previous_win_ind']\n",
      "['previous_loss_ind', 'previous_regret', 'previous_rpe']\n",
      "['previous_loss_ind', 'previous_regret', 'previous_win_ind']\n",
      "['previous_loss_ind', 'previous_rpe', 'previous_win_ind']\n",
      "['previous_regret', 'previous_rpe', 'previous_win_ind']\n",
      "between game presentation and buttonpress\n",
      "['previous_exputil', 'previous_gamble_ind', 'previous_risk', 'previous_winprob']\n",
      "['previous_exputil', 'previous_gamble_ind']\n",
      "['previous_exputil', 'previous_risk']\n",
      "['previous_exputil', 'previous_winprob']\n",
      "['previous_gamble_ind', 'previous_risk']\n",
      "['previous_gamble_ind', 'previous_winprob']\n",
      "['previous_risk', 'previous_winprob']\n",
      "['previous_exputil', 'previous_gamble_ind', 'previous_risk']\n",
      "['previous_exputil', 'previous_gamble_ind', 'previous_winprob']\n",
      "['previous_exputil', 'previous_risk', 'previous_winprob']\n",
      "['previous_gamble_ind', 'previous_risk', 'previous_winprob']\n"
     ]
    }
   ],
   "source": [
    "# results_ao_prev, results_gb_prev = all_combinations_best_elecs_1(all_datasets, outcome_prev_subsets, gamebtn_prev_subsets)"
   ]
  },
  {
   "cell_type": "code",
   "execution_count": 115,
   "metadata": {},
   "outputs": [],
   "source": [
    "# save_var((default_to_regular(results_ao_prev), default_to_regular(results_gb_prev)), \"all_combinations_best_elecs_prev_1\")"
   ]
  },
  {
   "cell_type": "markdown",
   "metadata": {},
   "source": [
    "### 2. All combinations with get_best_electrodes_2"
   ]
  },
  {
   "cell_type": "code",
   "execution_count": 89,
   "metadata": {},
   "outputs": [],
   "source": [
    "# Uses get_best_electrodes_2 with different percentage of electrodes\n",
    "def all_combinations_best_elecs_2(datasets, outcome_subsets=outcome_subsets, gamebtn_subsets=gamebtn_subsets):\n",
    "    results_ao = defaultdict(lambda: defaultdict(dict))\n",
    "    results_gb = defaultdict(lambda: defaultdict(dict))\n",
    "    trial_type = ALL\n",
    "    use_all_els = True\n",
    "    exp_nr = 1\n",
    "    \n",
    "    # 1.\n",
    "    tw_type = AFTER_OUTCOME\n",
    "    print(tw_type)\n",
    "    for subset in outcome_subsets:\n",
    "        print(subset)\n",
    "        for tw_per_el in [1, 2, 3]:\n",
    "            for percent in np.arange(0.2, 1.1, 0.2):\n",
    "                percent = round(percent, 1) # just in case\n",
    "                results_ao[tuple(subset)][(tw_per_el, \"all\", percent)] = experiment2(X_data=datasets, trial_type=trial_type, \n",
    "                                                                                     tw_type=tw_type, regressors=subset, \n",
    "                                                                                     exp_nr=exp_nr, tw_per_el=tw_per_el, \n",
    "                                                                                     use_all_els=use_all_els, k=5, \n",
    "                                                                                     elec_nrs=None, verbose=False)\n",
    "\n",
    "                results_ao[tuple(subset)][(tw_per_el, \"best\", percent)] = experiment2(X_data=datasets, trial_type=trial_type, \n",
    "                                                                                      tw_type=tw_type, regressors=subset, \n",
    "                                                                                      exp_nr=exp_nr, tw_per_el=tw_per_el, \n",
    "                                                                                      use_all_els=use_all_els, k=5, \n",
    "                                                                                      elec_nrs=get_best_electrodes_2(\n",
    "                                                                                          regressors=subset, tw_type=tw_type, \n",
    "                                                                                          p_elec=percent), \n",
    "                                                                                      verbose=False)\n",
    "                exp_nr += 1\n",
    "                \n",
    "\n",
    "    exp_nr = 1\n",
    "    # 2.\n",
    "    tw_type = GAMEPRES_BUTTONPRESS\n",
    "    print(tw_type)\n",
    "    for subset in gamebtn_subsets:\n",
    "        print(subset)\n",
    "        for tw_per_el in [1, 2, 3]:\n",
    "            for percent in np.arange(0.2, 1.1, 0.2):\n",
    "                percent = round(percent, 1)\n",
    "                results_gb[tuple(subset)][(tw_per_el, \"all\", percent)] = experiment2(X_data=datasets, trial_type=trial_type, \n",
    "                                                                                     tw_type=tw_type, regressors=subset, \n",
    "                                                                                     exp_nr=exp_nr, tw_per_el=tw_per_el, \n",
    "                                                                                     use_all_els=use_all_els, k=5, \n",
    "                                                                                     elec_nrs=None, verbose=False)\n",
    "\n",
    "                results_gb[tuple(subset)][(tw_per_el, \"best\", percent)] = experiment2(X_data=datasets, trial_type=trial_type, \n",
    "                                                                                      tw_type=tw_type, regressors=subset, \n",
    "                                                                                      exp_nr=exp_nr, tw_per_el=tw_per_el, \n",
    "                                                                                      use_all_els=use_all_els, k=5, \n",
    "                                                                                      elec_nrs=get_best_electrodes_2(\n",
    "                                                                                          subset, tw_type, p_elec=percent), \n",
    "                                                                                      verbose=False)\n",
    "                exp_nr += 1\n",
    "                \n",
    "                \n",
    "    return results_ao, results_gb"
   ]
  },
  {
   "cell_type": "markdown",
   "metadata": {},
   "source": [
    "**Current trial regressors:**"
   ]
  },
  {
   "cell_type": "code",
   "execution_count": 65,
   "metadata": {
    "scrolled": true
   },
   "outputs": [
    {
     "name": "stdout",
     "output_type": "stream",
     "text": [
      "1.5s after outcome reveal\n",
      "['loss_ind', 'regret', 'rpe', 'win_ind']\n",
      "['loss_ind', 'regret']\n",
      "['loss_ind', 'rpe']\n",
      "['loss_ind', 'win_ind']\n",
      "['regret', 'rpe']\n",
      "['regret', 'win_ind']\n",
      "['rpe', 'win_ind']\n",
      "['loss_ind', 'regret', 'rpe']\n",
      "['loss_ind', 'regret', 'win_ind']\n",
      "['loss_ind', 'rpe', 'win_ind']\n"
     ]
    },
    {
     "name": "stderr",
     "output_type": "stream",
     "text": [
      "C:\\Users\\MariLiis\\Anaconda3\\lib\\site-packages\\sklearn\\cross_decomposition\\pls_.py:79: ConvergenceWarning: Maximum number of iterations reached\n",
      "  ConvergenceWarning)\n",
      "C:\\Users\\MariLiis\\Anaconda3\\lib\\site-packages\\sklearn\\cross_decomposition\\pls_.py:79: ConvergenceWarning: Maximum number of iterations reached\n",
      "  ConvergenceWarning)\n",
      "C:\\Users\\MariLiis\\Anaconda3\\lib\\site-packages\\sklearn\\cross_decomposition\\pls_.py:79: ConvergenceWarning: Maximum number of iterations reached\n",
      "  ConvergenceWarning)\n",
      "C:\\Users\\MariLiis\\Anaconda3\\lib\\site-packages\\sklearn\\cross_decomposition\\pls_.py:79: ConvergenceWarning: Maximum number of iterations reached\n",
      "  ConvergenceWarning)\n",
      "C:\\Users\\MariLiis\\Anaconda3\\lib\\site-packages\\sklearn\\cross_decomposition\\pls_.py:79: ConvergenceWarning: Maximum number of iterations reached\n",
      "  ConvergenceWarning)\n",
      "C:\\Users\\MariLiis\\Anaconda3\\lib\\site-packages\\sklearn\\cross_decomposition\\pls_.py:79: ConvergenceWarning: Maximum number of iterations reached\n",
      "  ConvergenceWarning)\n"
     ]
    },
    {
     "name": "stdout",
     "output_type": "stream",
     "text": [
      "['regret', 'rpe', 'win_ind']\n",
      "between game presentation and buttonpress\n",
      "['exputil', 'gamble_ind', 'risk', 'winprob']\n",
      "['exputil', 'gamble_ind']\n",
      "['exputil', 'risk']\n",
      "['exputil', 'winprob']\n",
      "['gamble_ind', 'risk']\n",
      "['gamble_ind', 'winprob']\n",
      "['risk', 'winprob']\n",
      "['exputil', 'gamble_ind', 'risk']\n",
      "['exputil', 'gamble_ind', 'winprob']\n",
      "['exputil', 'risk', 'winprob']\n"
     ]
    },
    {
     "name": "stderr",
     "output_type": "stream",
     "text": [
      "C:\\Users\\MariLiis\\Anaconda3\\lib\\site-packages\\sklearn\\cross_decomposition\\pls_.py:79: ConvergenceWarning: Maximum number of iterations reached\n",
      "  ConvergenceWarning)\n",
      "C:\\Users\\MariLiis\\Anaconda3\\lib\\site-packages\\sklearn\\cross_decomposition\\pls_.py:79: ConvergenceWarning: Maximum number of iterations reached\n",
      "  ConvergenceWarning)\n",
      "C:\\Users\\MariLiis\\Anaconda3\\lib\\site-packages\\sklearn\\cross_decomposition\\pls_.py:79: ConvergenceWarning: Maximum number of iterations reached\n",
      "  ConvergenceWarning)\n",
      "C:\\Users\\MariLiis\\Anaconda3\\lib\\site-packages\\sklearn\\cross_decomposition\\pls_.py:79: ConvergenceWarning: Maximum number of iterations reached\n",
      "  ConvergenceWarning)\n",
      "C:\\Users\\MariLiis\\Anaconda3\\lib\\site-packages\\sklearn\\cross_decomposition\\pls_.py:79: ConvergenceWarning: Maximum number of iterations reached\n",
      "  ConvergenceWarning)\n",
      "C:\\Users\\MariLiis\\Anaconda3\\lib\\site-packages\\sklearn\\cross_decomposition\\pls_.py:79: ConvergenceWarning: Maximum number of iterations reached\n",
      "  ConvergenceWarning)\n"
     ]
    },
    {
     "name": "stdout",
     "output_type": "stream",
     "text": [
      "['gamble_ind', 'risk', 'winprob']\n"
     ]
    }
   ],
   "source": [
    "# results_ao_2, results_gb_2 = all_combinations_best_elecs_2(all_datasets)"
   ]
  },
  {
   "cell_type": "code",
   "execution_count": 66,
   "metadata": {},
   "outputs": [],
   "source": [
    "# save_var((default_to_regular(results_ao_2), default_to_regular(results_gb_2)), \"all_combinations_best_elecs_2\")"
   ]
  },
  {
   "cell_type": "code",
   "execution_count": 70,
   "metadata": {},
   "outputs": [
    {
     "data": {
      "text/plain": [
       "dict_keys([(1, 'all', 0.2), (1, 'best', 0.2), (1, 'all', 0.4), (1, 'best', 0.4), (1, 'all', 0.6), (1, 'best', 0.6), (1, 'all', 0.8), (1, 'best', 0.8), (1, 'all', 1.0), (1, 'best', 1.0), (2, 'all', 0.2), (2, 'best', 0.2), (2, 'all', 0.4), (2, 'best', 0.4), (2, 'all', 0.6), (2, 'best', 0.6), (2, 'all', 0.8), (2, 'best', 0.8), (2, 'all', 1.0), (2, 'best', 1.0), (3, 'all', 0.2), (3, 'best', 0.2), (3, 'all', 0.4), (3, 'best', 0.4), (3, 'all', 0.6), (3, 'best', 0.6), (3, 'all', 0.8), (3, 'best', 0.8), (3, 'all', 1.0), (3, 'best', 1.0)])"
      ]
     },
     "execution_count": 70,
     "metadata": {},
     "output_type": "execute_result"
    }
   ],
   "source": [
    "results_gb_2[('gamble_ind', 'risk', 'winprob')].keys()"
   ]
  },
  {
   "cell_type": "code",
   "execution_count": 71,
   "metadata": {},
   "outputs": [
    {
     "data": {
      "text/plain": [
       "dict_keys(['Y_features', 'nr', 's1', 's2', 's3', 's4', 's5', 's6', 's7', 's8', 's9', 's10'])"
      ]
     },
     "execution_count": 71,
     "metadata": {},
     "output_type": "execute_result"
    }
   ],
   "source": [
    "results_gb_2[('gamble_ind', 'risk', 'winprob')][(1, 'all', 0.2)].keys()"
   ]
  },
  {
   "cell_type": "markdown",
   "metadata": {},
   "source": [
    "**Previous trial regressors:**"
   ]
  },
  {
   "cell_type": "code",
   "execution_count": 110,
   "metadata": {
    "scrolled": true
   },
   "outputs": [
    {
     "name": "stdout",
     "output_type": "stream",
     "text": [
      "1.5s after outcome reveal\n",
      "['previous_loss_ind', 'previous_regret', 'previous_rpe', 'previous_win_ind']\n",
      "['previous_loss_ind', 'previous_regret']\n",
      "['previous_loss_ind', 'previous_rpe']\n",
      "['previous_loss_ind', 'previous_win_ind']\n",
      "['previous_regret', 'previous_rpe']\n",
      "['previous_regret', 'previous_win_ind']\n",
      "['previous_rpe', 'previous_win_ind']\n",
      "['previous_loss_ind', 'previous_regret', 'previous_rpe']\n",
      "['previous_loss_ind', 'previous_regret', 'previous_win_ind']\n",
      "['previous_loss_ind', 'previous_rpe', 'previous_win_ind']\n",
      "['previous_regret', 'previous_rpe', 'previous_win_ind']\n",
      "between game presentation and buttonpress\n",
      "['previous_exputil', 'previous_gamble_ind', 'previous_risk', 'previous_winprob']\n",
      "['previous_exputil', 'previous_gamble_ind']\n",
      "['previous_exputil', 'previous_risk']\n",
      "['previous_exputil', 'previous_winprob']\n",
      "['previous_gamble_ind', 'previous_risk']\n",
      "['previous_gamble_ind', 'previous_winprob']\n",
      "['previous_risk', 'previous_winprob']\n",
      "['previous_exputil', 'previous_gamble_ind', 'previous_risk']\n",
      "['previous_exputil', 'previous_gamble_ind', 'previous_winprob']\n",
      "['previous_exputil', 'previous_risk', 'previous_winprob']\n",
      "['previous_gamble_ind', 'previous_risk', 'previous_winprob']\n"
     ]
    }
   ],
   "source": [
    "# results_ao_prev_2, results_gb_prev_2 = all_combinations_best_elecs_2(all_datasets, outcome_prev_subsets, gamebtn_prev_subsets)"
   ]
  },
  {
   "cell_type": "code",
   "execution_count": 111,
   "metadata": {},
   "outputs": [],
   "source": [
    "# save_var((default_to_regular(results_ao_prev_2), default_to_regular(results_gb_prev_2)), \"all_combinations_best_elecs_prev_2\")"
   ]
  },
  {
   "cell_type": "code",
   "execution_count": null,
   "metadata": {},
   "outputs": [],
   "source": []
  }
 ],
 "metadata": {
  "kernelspec": {
   "display_name": "Python 3",
   "language": "python",
   "name": "python3"
  },
  "language_info": {
   "codemirror_mode": {
    "name": "ipython",
    "version": 3
   },
   "file_extension": ".py",
   "mimetype": "text/x-python",
   "name": "python",
   "nbconvert_exporter": "python",
   "pygments_lexer": "ipython3",
   "version": "3.6.8"
  }
 },
 "nbformat": 4,
 "nbformat_minor": 2
}
